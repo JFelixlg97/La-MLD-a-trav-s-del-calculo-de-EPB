{
 "cells": [
  {
   "cell_type": "code",
   "execution_count": 1,
   "id": "5e084ad7",
   "metadata": {
    "tags": []
   },
   "outputs": [],
   "source": [
    "import xarray as xr\n",
    "import matplotlib.pyplot as plt\n",
    "import cartopy.crs as ccrs\n",
    "import cartopy.feature as cfeature\n",
    "import gsw\n",
    "import numpy as np\n",
    "import seaborn as sea"
   ]
  },
  {
   "cell_type": "code",
   "execution_count": 11,
   "id": "30a549e6",
   "metadata": {
    "tags": []
   },
   "outputs": [
    {
     "data": {
      "text/html": [
       "<div><svg style=\"position: absolute; width: 0; height: 0; overflow: hidden\">\n",
       "<defs>\n",
       "<symbol id=\"icon-database\" viewBox=\"0 0 32 32\">\n",
       "<path d=\"M16 0c-8.837 0-16 2.239-16 5v4c0 2.761 7.163 5 16 5s16-2.239 16-5v-4c0-2.761-7.163-5-16-5z\"></path>\n",
       "<path d=\"M16 17c-8.837 0-16-2.239-16-5v6c0 2.761 7.163 5 16 5s16-2.239 16-5v-6c0 2.761-7.163 5-16 5z\"></path>\n",
       "<path d=\"M16 26c-8.837 0-16-2.239-16-5v6c0 2.761 7.163 5 16 5s16-2.239 16-5v-6c0 2.761-7.163 5-16 5z\"></path>\n",
       "</symbol>\n",
       "<symbol id=\"icon-file-text2\" viewBox=\"0 0 32 32\">\n",
       "<path d=\"M28.681 7.159c-0.694-0.947-1.662-2.053-2.724-3.116s-2.169-2.030-3.116-2.724c-1.612-1.182-2.393-1.319-2.841-1.319h-15.5c-1.378 0-2.5 1.121-2.5 2.5v27c0 1.378 1.122 2.5 2.5 2.5h23c1.378 0 2.5-1.122 2.5-2.5v-19.5c0-0.448-0.137-1.23-1.319-2.841zM24.543 5.457c0.959 0.959 1.712 1.825 2.268 2.543h-4.811v-4.811c0.718 0.556 1.584 1.309 2.543 2.268zM28 29.5c0 0.271-0.229 0.5-0.5 0.5h-23c-0.271 0-0.5-0.229-0.5-0.5v-27c0-0.271 0.229-0.5 0.5-0.5 0 0 15.499-0 15.5 0v7c0 0.552 0.448 1 1 1h7v19.5z\"></path>\n",
       "<path d=\"M23 26h-14c-0.552 0-1-0.448-1-1s0.448-1 1-1h14c0.552 0 1 0.448 1 1s-0.448 1-1 1z\"></path>\n",
       "<path d=\"M23 22h-14c-0.552 0-1-0.448-1-1s0.448-1 1-1h14c0.552 0 1 0.448 1 1s-0.448 1-1 1z\"></path>\n",
       "<path d=\"M23 18h-14c-0.552 0-1-0.448-1-1s0.448-1 1-1h14c0.552 0 1 0.448 1 1s-0.448 1-1 1z\"></path>\n",
       "</symbol>\n",
       "</defs>\n",
       "</svg>\n",
       "<style>/* CSS stylesheet for displaying xarray objects in jupyterlab.\n",
       " *\n",
       " */\n",
       "\n",
       ":root {\n",
       "  --xr-font-color0: var(--jp-content-font-color0, rgba(0, 0, 0, 1));\n",
       "  --xr-font-color2: var(--jp-content-font-color2, rgba(0, 0, 0, 0.54));\n",
       "  --xr-font-color3: var(--jp-content-font-color3, rgba(0, 0, 0, 0.38));\n",
       "  --xr-border-color: var(--jp-border-color2, #e0e0e0);\n",
       "  --xr-disabled-color: var(--jp-layout-color3, #bdbdbd);\n",
       "  --xr-background-color: var(--jp-layout-color0, white);\n",
       "  --xr-background-color-row-even: var(--jp-layout-color1, white);\n",
       "  --xr-background-color-row-odd: var(--jp-layout-color2, #eeeeee);\n",
       "}\n",
       "\n",
       "html[theme=dark],\n",
       "body[data-theme=dark],\n",
       "body.vscode-dark {\n",
       "  --xr-font-color0: rgba(255, 255, 255, 1);\n",
       "  --xr-font-color2: rgba(255, 255, 255, 0.54);\n",
       "  --xr-font-color3: rgba(255, 255, 255, 0.38);\n",
       "  --xr-border-color: #1F1F1F;\n",
       "  --xr-disabled-color: #515151;\n",
       "  --xr-background-color: #111111;\n",
       "  --xr-background-color-row-even: #111111;\n",
       "  --xr-background-color-row-odd: #313131;\n",
       "}\n",
       "\n",
       ".xr-wrap {\n",
       "  display: block !important;\n",
       "  min-width: 300px;\n",
       "  max-width: 700px;\n",
       "}\n",
       "\n",
       ".xr-text-repr-fallback {\n",
       "  /* fallback to plain text repr when CSS is not injected (untrusted notebook) */\n",
       "  display: none;\n",
       "}\n",
       "\n",
       ".xr-header {\n",
       "  padding-top: 6px;\n",
       "  padding-bottom: 6px;\n",
       "  margin-bottom: 4px;\n",
       "  border-bottom: solid 1px var(--xr-border-color);\n",
       "}\n",
       "\n",
       ".xr-header > div,\n",
       ".xr-header > ul {\n",
       "  display: inline;\n",
       "  margin-top: 0;\n",
       "  margin-bottom: 0;\n",
       "}\n",
       "\n",
       ".xr-obj-type,\n",
       ".xr-array-name {\n",
       "  margin-left: 2px;\n",
       "  margin-right: 10px;\n",
       "}\n",
       "\n",
       ".xr-obj-type {\n",
       "  color: var(--xr-font-color2);\n",
       "}\n",
       "\n",
       ".xr-sections {\n",
       "  padding-left: 0 !important;\n",
       "  display: grid;\n",
       "  grid-template-columns: 150px auto auto 1fr 20px 20px;\n",
       "}\n",
       "\n",
       ".xr-section-item {\n",
       "  display: contents;\n",
       "}\n",
       "\n",
       ".xr-section-item input {\n",
       "  display: none;\n",
       "}\n",
       "\n",
       ".xr-section-item input + label {\n",
       "  color: var(--xr-disabled-color);\n",
       "}\n",
       "\n",
       ".xr-section-item input:enabled + label {\n",
       "  cursor: pointer;\n",
       "  color: var(--xr-font-color2);\n",
       "}\n",
       "\n",
       ".xr-section-item input:enabled + label:hover {\n",
       "  color: var(--xr-font-color0);\n",
       "}\n",
       "\n",
       ".xr-section-summary {\n",
       "  grid-column: 1;\n",
       "  color: var(--xr-font-color2);\n",
       "  font-weight: 500;\n",
       "}\n",
       "\n",
       ".xr-section-summary > span {\n",
       "  display: inline-block;\n",
       "  padding-left: 0.5em;\n",
       "}\n",
       "\n",
       ".xr-section-summary-in:disabled + label {\n",
       "  color: var(--xr-font-color2);\n",
       "}\n",
       "\n",
       ".xr-section-summary-in + label:before {\n",
       "  display: inline-block;\n",
       "  content: '►';\n",
       "  font-size: 11px;\n",
       "  width: 15px;\n",
       "  text-align: center;\n",
       "}\n",
       "\n",
       ".xr-section-summary-in:disabled + label:before {\n",
       "  color: var(--xr-disabled-color);\n",
       "}\n",
       "\n",
       ".xr-section-summary-in:checked + label:before {\n",
       "  content: '▼';\n",
       "}\n",
       "\n",
       ".xr-section-summary-in:checked + label > span {\n",
       "  display: none;\n",
       "}\n",
       "\n",
       ".xr-section-summary,\n",
       ".xr-section-inline-details {\n",
       "  padding-top: 4px;\n",
       "  padding-bottom: 4px;\n",
       "}\n",
       "\n",
       ".xr-section-inline-details {\n",
       "  grid-column: 2 / -1;\n",
       "}\n",
       "\n",
       ".xr-section-details {\n",
       "  display: none;\n",
       "  grid-column: 1 / -1;\n",
       "  margin-bottom: 5px;\n",
       "}\n",
       "\n",
       ".xr-section-summary-in:checked ~ .xr-section-details {\n",
       "  display: contents;\n",
       "}\n",
       "\n",
       ".xr-array-wrap {\n",
       "  grid-column: 1 / -1;\n",
       "  display: grid;\n",
       "  grid-template-columns: 20px auto;\n",
       "}\n",
       "\n",
       ".xr-array-wrap > label {\n",
       "  grid-column: 1;\n",
       "  vertical-align: top;\n",
       "}\n",
       "\n",
       ".xr-preview {\n",
       "  color: var(--xr-font-color3);\n",
       "}\n",
       "\n",
       ".xr-array-preview,\n",
       ".xr-array-data {\n",
       "  padding: 0 5px !important;\n",
       "  grid-column: 2;\n",
       "}\n",
       "\n",
       ".xr-array-data,\n",
       ".xr-array-in:checked ~ .xr-array-preview {\n",
       "  display: none;\n",
       "}\n",
       "\n",
       ".xr-array-in:checked ~ .xr-array-data,\n",
       ".xr-array-preview {\n",
       "  display: inline-block;\n",
       "}\n",
       "\n",
       ".xr-dim-list {\n",
       "  display: inline-block !important;\n",
       "  list-style: none;\n",
       "  padding: 0 !important;\n",
       "  margin: 0;\n",
       "}\n",
       "\n",
       ".xr-dim-list li {\n",
       "  display: inline-block;\n",
       "  padding: 0;\n",
       "  margin: 0;\n",
       "}\n",
       "\n",
       ".xr-dim-list:before {\n",
       "  content: '(';\n",
       "}\n",
       "\n",
       ".xr-dim-list:after {\n",
       "  content: ')';\n",
       "}\n",
       "\n",
       ".xr-dim-list li:not(:last-child):after {\n",
       "  content: ',';\n",
       "  padding-right: 5px;\n",
       "}\n",
       "\n",
       ".xr-has-index {\n",
       "  font-weight: bold;\n",
       "}\n",
       "\n",
       ".xr-var-list,\n",
       ".xr-var-item {\n",
       "  display: contents;\n",
       "}\n",
       "\n",
       ".xr-var-item > div,\n",
       ".xr-var-item label,\n",
       ".xr-var-item > .xr-var-name span {\n",
       "  background-color: var(--xr-background-color-row-even);\n",
       "  margin-bottom: 0;\n",
       "}\n",
       "\n",
       ".xr-var-item > .xr-var-name:hover span {\n",
       "  padding-right: 5px;\n",
       "}\n",
       "\n",
       ".xr-var-list > li:nth-child(odd) > div,\n",
       ".xr-var-list > li:nth-child(odd) > label,\n",
       ".xr-var-list > li:nth-child(odd) > .xr-var-name span {\n",
       "  background-color: var(--xr-background-color-row-odd);\n",
       "}\n",
       "\n",
       ".xr-var-name {\n",
       "  grid-column: 1;\n",
       "}\n",
       "\n",
       ".xr-var-dims {\n",
       "  grid-column: 2;\n",
       "}\n",
       "\n",
       ".xr-var-dtype {\n",
       "  grid-column: 3;\n",
       "  text-align: right;\n",
       "  color: var(--xr-font-color2);\n",
       "}\n",
       "\n",
       ".xr-var-preview {\n",
       "  grid-column: 4;\n",
       "}\n",
       "\n",
       ".xr-index-preview {\n",
       "  grid-column: 2 / 5;\n",
       "  color: var(--xr-font-color2);\n",
       "}\n",
       "\n",
       ".xr-var-name,\n",
       ".xr-var-dims,\n",
       ".xr-var-dtype,\n",
       ".xr-preview,\n",
       ".xr-attrs dt {\n",
       "  white-space: nowrap;\n",
       "  overflow: hidden;\n",
       "  text-overflow: ellipsis;\n",
       "  padding-right: 10px;\n",
       "}\n",
       "\n",
       ".xr-var-name:hover,\n",
       ".xr-var-dims:hover,\n",
       ".xr-var-dtype:hover,\n",
       ".xr-attrs dt:hover {\n",
       "  overflow: visible;\n",
       "  width: auto;\n",
       "  z-index: 1;\n",
       "}\n",
       "\n",
       ".xr-var-attrs,\n",
       ".xr-var-data,\n",
       ".xr-index-data {\n",
       "  display: none;\n",
       "  background-color: var(--xr-background-color) !important;\n",
       "  padding-bottom: 5px !important;\n",
       "}\n",
       "\n",
       ".xr-var-attrs-in:checked ~ .xr-var-attrs,\n",
       ".xr-var-data-in:checked ~ .xr-var-data,\n",
       ".xr-index-data-in:checked ~ .xr-index-data {\n",
       "  display: block;\n",
       "}\n",
       "\n",
       ".xr-var-data > table {\n",
       "  float: right;\n",
       "}\n",
       "\n",
       ".xr-var-name span,\n",
       ".xr-var-data,\n",
       ".xr-index-name div,\n",
       ".xr-index-data,\n",
       ".xr-attrs {\n",
       "  padding-left: 25px !important;\n",
       "}\n",
       "\n",
       ".xr-attrs,\n",
       ".xr-var-attrs,\n",
       ".xr-var-data,\n",
       ".xr-index-data {\n",
       "  grid-column: 1 / -1;\n",
       "}\n",
       "\n",
       "dl.xr-attrs {\n",
       "  padding: 0;\n",
       "  margin: 0;\n",
       "  display: grid;\n",
       "  grid-template-columns: 125px auto;\n",
       "}\n",
       "\n",
       ".xr-attrs dt,\n",
       ".xr-attrs dd {\n",
       "  padding: 0;\n",
       "  margin: 0;\n",
       "  float: left;\n",
       "  padding-right: 10px;\n",
       "  width: auto;\n",
       "}\n",
       "\n",
       ".xr-attrs dt {\n",
       "  font-weight: normal;\n",
       "  grid-column: 1;\n",
       "}\n",
       "\n",
       ".xr-attrs dt:hover span {\n",
       "  display: inline-block;\n",
       "  background: var(--xr-background-color);\n",
       "  padding-right: 10px;\n",
       "}\n",
       "\n",
       ".xr-attrs dd {\n",
       "  grid-column: 2;\n",
       "  white-space: pre-wrap;\n",
       "  word-break: break-all;\n",
       "}\n",
       "\n",
       ".xr-icon-database,\n",
       ".xr-icon-file-text2,\n",
       ".xr-no-icon {\n",
       "  display: inline-block;\n",
       "  vertical-align: middle;\n",
       "  width: 1em;\n",
       "  height: 1.5em !important;\n",
       "  stroke-width: 0;\n",
       "  stroke: currentColor;\n",
       "  fill: currentColor;\n",
       "}\n",
       "</style><pre class='xr-text-repr-fallback'>&lt;xarray.Dataset&gt;\n",
       "Dimensions:                       (N_PROF: 419, N_PARAM: 3, N_LEVELS: 1024,\n",
       "                                   N_CALIB: 1)\n",
       "Dimensions without coordinates: N_PROF, N_PARAM, N_LEVELS, N_CALIB\n",
       "Data variables: (12/52)\n",
       "    DATA_TYPE                     object ...\n",
       "    FORMAT_VERSION                object ...\n",
       "    HANDBOOK_VERSION              object ...\n",
       "    REFERENCE_DATE_TIME           object ...\n",
       "    DATE_CREATION                 object ...\n",
       "    DATE_UPDATE                   object ...\n",
       "    ...                            ...\n",
       "    PSAL_ADJUSTED_ERROR           (N_PROF, N_LEVELS) float32 ...\n",
       "    PARAMETER                     (N_PROF, N_CALIB, N_PARAM) object ...\n",
       "    SCIENTIFIC_CALIB_EQUATION     (N_PROF, N_CALIB, N_PARAM) object ...\n",
       "    SCIENTIFIC_CALIB_COEFFICIENT  (N_PROF, N_CALIB, N_PARAM) object ...\n",
       "    SCIENTIFIC_CALIB_COMMENT      (N_PROF, N_CALIB, N_PARAM) object ...\n",
       "    SCIENTIFIC_CALIB_DATE         (N_PROF, N_CALIB, N_PARAM) object ...\n",
       "Attributes:\n",
       "    title:                Argo float aggregated multi-cycle profile\n",
       "    institution:          US GDAC\n",
       "    source:               Argo float\n",
       "    history:              2023-03-05T00:00:55Z\n",
       "    references:           http://www.argodatamgt.org/Documentation\n",
       "    comment:              free text\n",
       "    user_manual_version:  3.2\n",
       "    Conventions:          Argo-3.2 CF-1.6\n",
       "    featureType:          trajectoryProfile</pre><div class='xr-wrap' style='display:none'><div class='xr-header'><div class='xr-obj-type'>xarray.Dataset</div></div><ul class='xr-sections'><li class='xr-section-item'><input id='section-952500b7-7bff-434d-ba27-76b0206f217a' class='xr-section-summary-in' type='checkbox' disabled ><label for='section-952500b7-7bff-434d-ba27-76b0206f217a' class='xr-section-summary'  title='Expand/collapse section'>Dimensions:</label><div class='xr-section-inline-details'><ul class='xr-dim-list'><li><span>N_PROF</span>: 419</li><li><span>N_PARAM</span>: 3</li><li><span>N_LEVELS</span>: 1024</li><li><span>N_CALIB</span>: 1</li></ul></div><div class='xr-section-details'></div></li><li class='xr-section-item'><input id='section-e6064817-184a-45c4-a3a4-e3047181254e' class='xr-section-summary-in' type='checkbox' disabled ><label for='section-e6064817-184a-45c4-a3a4-e3047181254e' class='xr-section-summary'  title='Expand/collapse section'>Coordinates: <span>(0)</span></label><div class='xr-section-inline-details'></div><div class='xr-section-details'><ul class='xr-var-list'></ul></div></li><li class='xr-section-item'><input id='section-6292af1b-28f5-40bf-91b4-bee4e38757a2' class='xr-section-summary-in' type='checkbox'  ><label for='section-6292af1b-28f5-40bf-91b4-bee4e38757a2' class='xr-section-summary' >Data variables: <span>(52)</span></label><div class='xr-section-inline-details'></div><div class='xr-section-details'><ul class='xr-var-list'><li class='xr-var-item'><div class='xr-var-name'><span>DATA_TYPE</span></div><div class='xr-var-dims'>()</div><div class='xr-var-dtype'>object</div><div class='xr-var-preview xr-preview'>...</div><input id='attrs-00ddf2ad-172b-4457-845c-4bb5a76820ec' class='xr-var-attrs-in' type='checkbox' ><label for='attrs-00ddf2ad-172b-4457-845c-4bb5a76820ec' title='Show/Hide attributes'><svg class='icon xr-icon-file-text2'><use xlink:href='#icon-file-text2'></use></svg></label><input id='data-852d6101-1b8e-40f5-a653-39c242ef0fea' class='xr-var-data-in' type='checkbox'><label for='data-852d6101-1b8e-40f5-a653-39c242ef0fea' title='Show/Hide data repr'><svg class='icon xr-icon-database'><use xlink:href='#icon-database'></use></svg></label><div class='xr-var-attrs'><dl class='xr-attrs'><dt><span>long_name :</span></dt><dd>Data type</dd><dt><span>conventions :</span></dt><dd>Argo reference table 1</dd></dl></div><div class='xr-var-data'><pre>[1 values with dtype=object]</pre></div></li><li class='xr-var-item'><div class='xr-var-name'><span>FORMAT_VERSION</span></div><div class='xr-var-dims'>()</div><div class='xr-var-dtype'>object</div><div class='xr-var-preview xr-preview'>...</div><input id='attrs-a5327953-a948-48c2-9efe-fdb5d8e63de5' class='xr-var-attrs-in' type='checkbox' ><label for='attrs-a5327953-a948-48c2-9efe-fdb5d8e63de5' title='Show/Hide attributes'><svg class='icon xr-icon-file-text2'><use xlink:href='#icon-file-text2'></use></svg></label><input id='data-1bf29113-bcca-41e1-bd9b-67176aa3973d' class='xr-var-data-in' type='checkbox'><label for='data-1bf29113-bcca-41e1-bd9b-67176aa3973d' title='Show/Hide data repr'><svg class='icon xr-icon-database'><use xlink:href='#icon-database'></use></svg></label><div class='xr-var-attrs'><dl class='xr-attrs'><dt><span>long_name :</span></dt><dd>File format version</dd></dl></div><div class='xr-var-data'><pre>[1 values with dtype=object]</pre></div></li><li class='xr-var-item'><div class='xr-var-name'><span>HANDBOOK_VERSION</span></div><div class='xr-var-dims'>()</div><div class='xr-var-dtype'>object</div><div class='xr-var-preview xr-preview'>...</div><input id='attrs-2af1e73d-9598-4460-b0e5-cc7edc5396be' class='xr-var-attrs-in' type='checkbox' ><label for='attrs-2af1e73d-9598-4460-b0e5-cc7edc5396be' title='Show/Hide attributes'><svg class='icon xr-icon-file-text2'><use xlink:href='#icon-file-text2'></use></svg></label><input id='data-c4df9762-8e97-49fa-92da-706873807bd2' class='xr-var-data-in' type='checkbox'><label for='data-c4df9762-8e97-49fa-92da-706873807bd2' title='Show/Hide data repr'><svg class='icon xr-icon-database'><use xlink:href='#icon-database'></use></svg></label><div class='xr-var-attrs'><dl class='xr-attrs'><dt><span>long_name :</span></dt><dd>Data handbook version</dd></dl></div><div class='xr-var-data'><pre>[1 values with dtype=object]</pre></div></li><li class='xr-var-item'><div class='xr-var-name'><span>REFERENCE_DATE_TIME</span></div><div class='xr-var-dims'>()</div><div class='xr-var-dtype'>object</div><div class='xr-var-preview xr-preview'>...</div><input id='attrs-d0ce5c6d-d060-45b7-bd81-919809a4913b' class='xr-var-attrs-in' type='checkbox' ><label for='attrs-d0ce5c6d-d060-45b7-bd81-919809a4913b' title='Show/Hide attributes'><svg class='icon xr-icon-file-text2'><use xlink:href='#icon-file-text2'></use></svg></label><input id='data-28570f07-0c48-4a1b-b50f-251386f1292c' class='xr-var-data-in' type='checkbox'><label for='data-28570f07-0c48-4a1b-b50f-251386f1292c' title='Show/Hide data repr'><svg class='icon xr-icon-database'><use xlink:href='#icon-database'></use></svg></label><div class='xr-var-attrs'><dl class='xr-attrs'><dt><span>long_name :</span></dt><dd>Date of reference for Julian days</dd><dt><span>conventions :</span></dt><dd>YYYYMMDDHHMISS</dd></dl></div><div class='xr-var-data'><pre>[1 values with dtype=object]</pre></div></li><li class='xr-var-item'><div class='xr-var-name'><span>DATE_CREATION</span></div><div class='xr-var-dims'>()</div><div class='xr-var-dtype'>object</div><div class='xr-var-preview xr-preview'>...</div><input id='attrs-51fac8f0-28a4-4101-a3bc-ffa5fe52fb1d' class='xr-var-attrs-in' type='checkbox' ><label for='attrs-51fac8f0-28a4-4101-a3bc-ffa5fe52fb1d' title='Show/Hide attributes'><svg class='icon xr-icon-file-text2'><use xlink:href='#icon-file-text2'></use></svg></label><input id='data-6e6d2035-67db-4951-a5bb-2b150b051422' class='xr-var-data-in' type='checkbox'><label for='data-6e6d2035-67db-4951-a5bb-2b150b051422' title='Show/Hide data repr'><svg class='icon xr-icon-database'><use xlink:href='#icon-database'></use></svg></label><div class='xr-var-attrs'><dl class='xr-attrs'><dt><span>long_name :</span></dt><dd>Date of file creation</dd><dt><span>conventions :</span></dt><dd>YYYYMMDDHHMISS</dd></dl></div><div class='xr-var-data'><pre>[1 values with dtype=object]</pre></div></li><li class='xr-var-item'><div class='xr-var-name'><span>DATE_UPDATE</span></div><div class='xr-var-dims'>()</div><div class='xr-var-dtype'>object</div><div class='xr-var-preview xr-preview'>...</div><input id='attrs-30727599-70da-43a4-b7ac-571d342d97e6' class='xr-var-attrs-in' type='checkbox' ><label for='attrs-30727599-70da-43a4-b7ac-571d342d97e6' title='Show/Hide attributes'><svg class='icon xr-icon-file-text2'><use xlink:href='#icon-file-text2'></use></svg></label><input id='data-14fcd644-dd5b-41f6-9bf1-fda187756378' class='xr-var-data-in' type='checkbox'><label for='data-14fcd644-dd5b-41f6-9bf1-fda187756378' title='Show/Hide data repr'><svg class='icon xr-icon-database'><use xlink:href='#icon-database'></use></svg></label><div class='xr-var-attrs'><dl class='xr-attrs'><dt><span>long_name :</span></dt><dd>Date of update of this file</dd><dt><span>conventions :</span></dt><dd>YYYYMMDDHHMISS</dd></dl></div><div class='xr-var-data'><pre>[1 values with dtype=object]</pre></div></li><li class='xr-var-item'><div class='xr-var-name'><span>PLATFORM_NUMBER</span></div><div class='xr-var-dims'>(N_PROF)</div><div class='xr-var-dtype'>object</div><div class='xr-var-preview xr-preview'>...</div><input id='attrs-f4205460-7e9a-4d0e-831c-d36f2bc0321f' class='xr-var-attrs-in' type='checkbox' ><label for='attrs-f4205460-7e9a-4d0e-831c-d36f2bc0321f' title='Show/Hide attributes'><svg class='icon xr-icon-file-text2'><use xlink:href='#icon-file-text2'></use></svg></label><input id='data-eae5bf4a-5798-4406-ac94-801441649300' class='xr-var-data-in' type='checkbox'><label for='data-eae5bf4a-5798-4406-ac94-801441649300' title='Show/Hide data repr'><svg class='icon xr-icon-database'><use xlink:href='#icon-database'></use></svg></label><div class='xr-var-attrs'><dl class='xr-attrs'><dt><span>long_name :</span></dt><dd>Float unique identifier</dd><dt><span>conventions :</span></dt><dd>WMO float identifier : A9IIIII</dd></dl></div><div class='xr-var-data'><pre>[419 values with dtype=object]</pre></div></li><li class='xr-var-item'><div class='xr-var-name'><span>PROJECT_NAME</span></div><div class='xr-var-dims'>(N_PROF)</div><div class='xr-var-dtype'>object</div><div class='xr-var-preview xr-preview'>...</div><input id='attrs-e0eb81ae-7c2d-4080-8ed0-f2d29dc8ade4' class='xr-var-attrs-in' type='checkbox' ><label for='attrs-e0eb81ae-7c2d-4080-8ed0-f2d29dc8ade4' title='Show/Hide attributes'><svg class='icon xr-icon-file-text2'><use xlink:href='#icon-file-text2'></use></svg></label><input id='data-234f7a89-3e49-4e6e-a634-856496e39e1e' class='xr-var-data-in' type='checkbox'><label for='data-234f7a89-3e49-4e6e-a634-856496e39e1e' title='Show/Hide data repr'><svg class='icon xr-icon-database'><use xlink:href='#icon-database'></use></svg></label><div class='xr-var-attrs'><dl class='xr-attrs'><dt><span>long_name :</span></dt><dd>Name of the project</dd></dl></div><div class='xr-var-data'><pre>[419 values with dtype=object]</pre></div></li><li class='xr-var-item'><div class='xr-var-name'><span>PI_NAME</span></div><div class='xr-var-dims'>(N_PROF)</div><div class='xr-var-dtype'>object</div><div class='xr-var-preview xr-preview'>...</div><input id='attrs-833d96dc-5788-4546-8196-21f14165ce92' class='xr-var-attrs-in' type='checkbox' ><label for='attrs-833d96dc-5788-4546-8196-21f14165ce92' title='Show/Hide attributes'><svg class='icon xr-icon-file-text2'><use xlink:href='#icon-file-text2'></use></svg></label><input id='data-376928c0-5576-45e1-b7cf-0f6987db107a' class='xr-var-data-in' type='checkbox'><label for='data-376928c0-5576-45e1-b7cf-0f6987db107a' title='Show/Hide data repr'><svg class='icon xr-icon-database'><use xlink:href='#icon-database'></use></svg></label><div class='xr-var-attrs'><dl class='xr-attrs'><dt><span>long_name :</span></dt><dd>Name of the principal investigator</dd></dl></div><div class='xr-var-data'><pre>[419 values with dtype=object]</pre></div></li><li class='xr-var-item'><div class='xr-var-name'><span>STATION_PARAMETERS</span></div><div class='xr-var-dims'>(N_PROF, N_PARAM)</div><div class='xr-var-dtype'>object</div><div class='xr-var-preview xr-preview'>...</div><input id='attrs-d336e603-c579-49fd-8680-6f2665d2e19e' class='xr-var-attrs-in' type='checkbox' ><label for='attrs-d336e603-c579-49fd-8680-6f2665d2e19e' title='Show/Hide attributes'><svg class='icon xr-icon-file-text2'><use xlink:href='#icon-file-text2'></use></svg></label><input id='data-b53bd3b7-708c-4453-9de2-55ab4f12c165' class='xr-var-data-in' type='checkbox'><label for='data-b53bd3b7-708c-4453-9de2-55ab4f12c165' title='Show/Hide data repr'><svg class='icon xr-icon-database'><use xlink:href='#icon-database'></use></svg></label><div class='xr-var-attrs'><dl class='xr-attrs'><dt><span>long_name :</span></dt><dd>List of available parameters for the station</dd><dt><span>conventions :</span></dt><dd>Argo reference table 3</dd></dl></div><div class='xr-var-data'><pre>[1257 values with dtype=object]</pre></div></li><li class='xr-var-item'><div class='xr-var-name'><span>CYCLE_NUMBER</span></div><div class='xr-var-dims'>(N_PROF)</div><div class='xr-var-dtype'>float64</div><div class='xr-var-preview xr-preview'>...</div><input id='attrs-bce726f4-334f-4289-96bf-608c37ab2f2a' class='xr-var-attrs-in' type='checkbox' ><label for='attrs-bce726f4-334f-4289-96bf-608c37ab2f2a' title='Show/Hide attributes'><svg class='icon xr-icon-file-text2'><use xlink:href='#icon-file-text2'></use></svg></label><input id='data-d559a865-3fe3-43b1-9575-cf0fb94ce07f' class='xr-var-data-in' type='checkbox'><label for='data-d559a865-3fe3-43b1-9575-cf0fb94ce07f' title='Show/Hide data repr'><svg class='icon xr-icon-database'><use xlink:href='#icon-database'></use></svg></label><div class='xr-var-attrs'><dl class='xr-attrs'><dt><span>long_name :</span></dt><dd>Float cycle number</dd><dt><span>conventions :</span></dt><dd>0...N, 0 : launch cycle (if exists), 1 : first complete cycle</dd></dl></div><div class='xr-var-data'><pre>[419 values with dtype=float64]</pre></div></li><li class='xr-var-item'><div class='xr-var-name'><span>DIRECTION</span></div><div class='xr-var-dims'>(N_PROF)</div><div class='xr-var-dtype'>object</div><div class='xr-var-preview xr-preview'>...</div><input id='attrs-041aa21c-18bd-4780-a5e3-eaae2f3f0dfd' class='xr-var-attrs-in' type='checkbox' ><label for='attrs-041aa21c-18bd-4780-a5e3-eaae2f3f0dfd' title='Show/Hide attributes'><svg class='icon xr-icon-file-text2'><use xlink:href='#icon-file-text2'></use></svg></label><input id='data-57697596-2efb-4e70-8374-882ff2b7e692' class='xr-var-data-in' type='checkbox'><label for='data-57697596-2efb-4e70-8374-882ff2b7e692' title='Show/Hide data repr'><svg class='icon xr-icon-database'><use xlink:href='#icon-database'></use></svg></label><div class='xr-var-attrs'><dl class='xr-attrs'><dt><span>long_name :</span></dt><dd>Direction of the station profiles</dd><dt><span>conventions :</span></dt><dd>A: ascending profiles, D: descending profiles</dd></dl></div><div class='xr-var-data'><pre>[419 values with dtype=object]</pre></div></li><li class='xr-var-item'><div class='xr-var-name'><span>DATA_CENTRE</span></div><div class='xr-var-dims'>(N_PROF)</div><div class='xr-var-dtype'>object</div><div class='xr-var-preview xr-preview'>...</div><input id='attrs-b32501f3-215b-4a5c-9c14-ee729141ecdd' class='xr-var-attrs-in' type='checkbox' ><label for='attrs-b32501f3-215b-4a5c-9c14-ee729141ecdd' title='Show/Hide attributes'><svg class='icon xr-icon-file-text2'><use xlink:href='#icon-file-text2'></use></svg></label><input id='data-1b924f92-b3f3-4df3-b2b4-87f26cec55a4' class='xr-var-data-in' type='checkbox'><label for='data-1b924f92-b3f3-4df3-b2b4-87f26cec55a4' title='Show/Hide data repr'><svg class='icon xr-icon-database'><use xlink:href='#icon-database'></use></svg></label><div class='xr-var-attrs'><dl class='xr-attrs'><dt><span>long_name :</span></dt><dd>Data centre in charge of float data processing</dd><dt><span>conventions :</span></dt><dd>Argo reference table 4</dd></dl></div><div class='xr-var-data'><pre>[419 values with dtype=object]</pre></div></li><li class='xr-var-item'><div class='xr-var-name'><span>DC_REFERENCE</span></div><div class='xr-var-dims'>(N_PROF)</div><div class='xr-var-dtype'>object</div><div class='xr-var-preview xr-preview'>...</div><input id='attrs-05fa8906-ce88-4bf1-bebc-0b4f59073e6e' class='xr-var-attrs-in' type='checkbox' ><label for='attrs-05fa8906-ce88-4bf1-bebc-0b4f59073e6e' title='Show/Hide attributes'><svg class='icon xr-icon-file-text2'><use xlink:href='#icon-file-text2'></use></svg></label><input id='data-a5fd2411-033b-4b7f-b171-ad3bd4cbbc46' class='xr-var-data-in' type='checkbox'><label for='data-a5fd2411-033b-4b7f-b171-ad3bd4cbbc46' title='Show/Hide data repr'><svg class='icon xr-icon-database'><use xlink:href='#icon-database'></use></svg></label><div class='xr-var-attrs'><dl class='xr-attrs'><dt><span>long_name :</span></dt><dd>Station unique identifier in data centre</dd><dt><span>conventions :</span></dt><dd>Data centre convention</dd></dl></div><div class='xr-var-data'><pre>[419 values with dtype=object]</pre></div></li><li class='xr-var-item'><div class='xr-var-name'><span>DATA_STATE_INDICATOR</span></div><div class='xr-var-dims'>(N_PROF)</div><div class='xr-var-dtype'>object</div><div class='xr-var-preview xr-preview'>...</div><input id='attrs-b70278a4-a2f2-4abc-8734-f64f4b006961' class='xr-var-attrs-in' type='checkbox' ><label for='attrs-b70278a4-a2f2-4abc-8734-f64f4b006961' title='Show/Hide attributes'><svg class='icon xr-icon-file-text2'><use xlink:href='#icon-file-text2'></use></svg></label><input id='data-77870d1e-d8c0-4f93-ac41-41330bc2bcb7' class='xr-var-data-in' type='checkbox'><label for='data-77870d1e-d8c0-4f93-ac41-41330bc2bcb7' title='Show/Hide data repr'><svg class='icon xr-icon-database'><use xlink:href='#icon-database'></use></svg></label><div class='xr-var-attrs'><dl class='xr-attrs'><dt><span>long_name :</span></dt><dd>Degree of processing the data have passed through</dd><dt><span>conventions :</span></dt><dd>Argo reference table 6</dd></dl></div><div class='xr-var-data'><pre>[419 values with dtype=object]</pre></div></li><li class='xr-var-item'><div class='xr-var-name'><span>DATA_MODE</span></div><div class='xr-var-dims'>(N_PROF)</div><div class='xr-var-dtype'>object</div><div class='xr-var-preview xr-preview'>...</div><input id='attrs-a6011e49-d917-4dc2-8477-a13a236d96a9' class='xr-var-attrs-in' type='checkbox' ><label for='attrs-a6011e49-d917-4dc2-8477-a13a236d96a9' title='Show/Hide attributes'><svg class='icon xr-icon-file-text2'><use xlink:href='#icon-file-text2'></use></svg></label><input id='data-ca7c520f-8c79-4bd2-b8ea-73835e0f7ed1' class='xr-var-data-in' type='checkbox'><label for='data-ca7c520f-8c79-4bd2-b8ea-73835e0f7ed1' title='Show/Hide data repr'><svg class='icon xr-icon-database'><use xlink:href='#icon-database'></use></svg></label><div class='xr-var-attrs'><dl class='xr-attrs'><dt><span>long_name :</span></dt><dd>Delayed mode or real time data</dd><dt><span>conventions :</span></dt><dd>R : real time; D : delayed mode; A : real time with adjustment</dd></dl></div><div class='xr-var-data'><pre>[419 values with dtype=object]</pre></div></li><li class='xr-var-item'><div class='xr-var-name'><span>PLATFORM_TYPE</span></div><div class='xr-var-dims'>(N_PROF)</div><div class='xr-var-dtype'>object</div><div class='xr-var-preview xr-preview'>...</div><input id='attrs-d4eeecc2-e32b-4558-9581-748ba94f148c' class='xr-var-attrs-in' type='checkbox' ><label for='attrs-d4eeecc2-e32b-4558-9581-748ba94f148c' title='Show/Hide attributes'><svg class='icon xr-icon-file-text2'><use xlink:href='#icon-file-text2'></use></svg></label><input id='data-27a419f0-ee12-4a5d-80ed-626802a63b55' class='xr-var-data-in' type='checkbox'><label for='data-27a419f0-ee12-4a5d-80ed-626802a63b55' title='Show/Hide data repr'><svg class='icon xr-icon-database'><use xlink:href='#icon-database'></use></svg></label><div class='xr-var-attrs'><dl class='xr-attrs'><dt><span>long_name :</span></dt><dd>Type of float</dd><dt><span>conventions :</span></dt><dd>Argo reference table 23</dd></dl></div><div class='xr-var-data'><pre>[419 values with dtype=object]</pre></div></li><li class='xr-var-item'><div class='xr-var-name'><span>FLOAT_SERIAL_NO</span></div><div class='xr-var-dims'>(N_PROF)</div><div class='xr-var-dtype'>object</div><div class='xr-var-preview xr-preview'>...</div><input id='attrs-635a5342-38fc-4fa2-8884-638e4a5142ca' class='xr-var-attrs-in' type='checkbox' ><label for='attrs-635a5342-38fc-4fa2-8884-638e4a5142ca' title='Show/Hide attributes'><svg class='icon xr-icon-file-text2'><use xlink:href='#icon-file-text2'></use></svg></label><input id='data-68c750a4-2d92-4272-a5f4-a7ffa435f806' class='xr-var-data-in' type='checkbox'><label for='data-68c750a4-2d92-4272-a5f4-a7ffa435f806' title='Show/Hide data repr'><svg class='icon xr-icon-database'><use xlink:href='#icon-database'></use></svg></label><div class='xr-var-attrs'><dl class='xr-attrs'><dt><span>long_name :</span></dt><dd>Serial number of the float</dd></dl></div><div class='xr-var-data'><pre>[419 values with dtype=object]</pre></div></li><li class='xr-var-item'><div class='xr-var-name'><span>FIRMWARE_VERSION</span></div><div class='xr-var-dims'>(N_PROF)</div><div class='xr-var-dtype'>object</div><div class='xr-var-preview xr-preview'>...</div><input id='attrs-5a72db7c-cc2c-4ecb-b406-25827d9f2243' class='xr-var-attrs-in' type='checkbox' ><label for='attrs-5a72db7c-cc2c-4ecb-b406-25827d9f2243' title='Show/Hide attributes'><svg class='icon xr-icon-file-text2'><use xlink:href='#icon-file-text2'></use></svg></label><input id='data-3cc2021e-a0c9-4c0b-9c9c-add678d2c504' class='xr-var-data-in' type='checkbox'><label for='data-3cc2021e-a0c9-4c0b-9c9c-add678d2c504' title='Show/Hide data repr'><svg class='icon xr-icon-database'><use xlink:href='#icon-database'></use></svg></label><div class='xr-var-attrs'><dl class='xr-attrs'><dt><span>long_name :</span></dt><dd>Instrument firmware version</dd></dl></div><div class='xr-var-data'><pre>[419 values with dtype=object]</pre></div></li><li class='xr-var-item'><div class='xr-var-name'><span>WMO_INST_TYPE</span></div><div class='xr-var-dims'>(N_PROF)</div><div class='xr-var-dtype'>object</div><div class='xr-var-preview xr-preview'>...</div><input id='attrs-2b5d5fb5-4461-40ba-b322-43dcb8ecd5e8' class='xr-var-attrs-in' type='checkbox' ><label for='attrs-2b5d5fb5-4461-40ba-b322-43dcb8ecd5e8' title='Show/Hide attributes'><svg class='icon xr-icon-file-text2'><use xlink:href='#icon-file-text2'></use></svg></label><input id='data-5bcc1717-e1c8-4515-ba39-966efe8e40b6' class='xr-var-data-in' type='checkbox'><label for='data-5bcc1717-e1c8-4515-ba39-966efe8e40b6' title='Show/Hide data repr'><svg class='icon xr-icon-database'><use xlink:href='#icon-database'></use></svg></label><div class='xr-var-attrs'><dl class='xr-attrs'><dt><span>long_name :</span></dt><dd>Coded instrument type</dd><dt><span>conventions :</span></dt><dd>Argo reference table 8</dd></dl></div><div class='xr-var-data'><pre>[419 values with dtype=object]</pre></div></li><li class='xr-var-item'><div class='xr-var-name'><span>JULD</span></div><div class='xr-var-dims'>(N_PROF)</div><div class='xr-var-dtype'>datetime64[ns]</div><div class='xr-var-preview xr-preview'>...</div><input id='attrs-7ccf3ce0-2213-4417-baf8-293f2bcf7a0e' class='xr-var-attrs-in' type='checkbox' ><label for='attrs-7ccf3ce0-2213-4417-baf8-293f2bcf7a0e' title='Show/Hide attributes'><svg class='icon xr-icon-file-text2'><use xlink:href='#icon-file-text2'></use></svg></label><input id='data-08cf6a7d-a69c-427e-a6d4-e5b588871b9f' class='xr-var-data-in' type='checkbox'><label for='data-08cf6a7d-a69c-427e-a6d4-e5b588871b9f' title='Show/Hide data repr'><svg class='icon xr-icon-database'><use xlink:href='#icon-database'></use></svg></label><div class='xr-var-attrs'><dl class='xr-attrs'><dt><span>long_name :</span></dt><dd>Julian day (UTC) of the station relative to REFERENCE_DATE_TIME</dd><dt><span>standard_name :</span></dt><dd>time</dd><dt><span>conventions :</span></dt><dd>Relative julian days with decimal part (as parts of day)</dd><dt><span>resolution :</span></dt><dd>1.1574074051168282e-05</dd><dt><span>axis :</span></dt><dd>T</dd></dl></div><div class='xr-var-data'><pre>[419 values with dtype=datetime64[ns]]</pre></div></li><li class='xr-var-item'><div class='xr-var-name'><span>JULD_QC</span></div><div class='xr-var-dims'>(N_PROF)</div><div class='xr-var-dtype'>object</div><div class='xr-var-preview xr-preview'>...</div><input id='attrs-b30d6c9f-d3a7-4bb5-a9c6-58ed5a70a818' class='xr-var-attrs-in' type='checkbox' ><label for='attrs-b30d6c9f-d3a7-4bb5-a9c6-58ed5a70a818' title='Show/Hide attributes'><svg class='icon xr-icon-file-text2'><use xlink:href='#icon-file-text2'></use></svg></label><input id='data-0c9ff242-09c5-4ffe-b328-f39cdfb4ed7b' class='xr-var-data-in' type='checkbox'><label for='data-0c9ff242-09c5-4ffe-b328-f39cdfb4ed7b' title='Show/Hide data repr'><svg class='icon xr-icon-database'><use xlink:href='#icon-database'></use></svg></label><div class='xr-var-attrs'><dl class='xr-attrs'><dt><span>long_name :</span></dt><dd>Quality on date and time</dd><dt><span>conventions :</span></dt><dd>Argo reference table 2</dd></dl></div><div class='xr-var-data'><pre>[419 values with dtype=object]</pre></div></li><li class='xr-var-item'><div class='xr-var-name'><span>JULD_LOCATION</span></div><div class='xr-var-dims'>(N_PROF)</div><div class='xr-var-dtype'>datetime64[ns]</div><div class='xr-var-preview xr-preview'>...</div><input id='attrs-697f9e99-38d2-45ac-8d45-75dffc997e38' class='xr-var-attrs-in' type='checkbox' ><label for='attrs-697f9e99-38d2-45ac-8d45-75dffc997e38' title='Show/Hide attributes'><svg class='icon xr-icon-file-text2'><use xlink:href='#icon-file-text2'></use></svg></label><input id='data-1e7f8e28-202a-48aa-ae81-48dea94d7228' class='xr-var-data-in' type='checkbox'><label for='data-1e7f8e28-202a-48aa-ae81-48dea94d7228' title='Show/Hide data repr'><svg class='icon xr-icon-database'><use xlink:href='#icon-database'></use></svg></label><div class='xr-var-attrs'><dl class='xr-attrs'><dt><span>long_name :</span></dt><dd>Julian day (UTC) of the location relative to REFERENCE_DATE_TIME</dd><dt><span>conventions :</span></dt><dd>Relative julian days with decimal part (as parts of day)</dd><dt><span>resolution :</span></dt><dd>1.1574074051168282e-05</dd></dl></div><div class='xr-var-data'><pre>[419 values with dtype=datetime64[ns]]</pre></div></li><li class='xr-var-item'><div class='xr-var-name'><span>LATITUDE</span></div><div class='xr-var-dims'>(N_PROF)</div><div class='xr-var-dtype'>float64</div><div class='xr-var-preview xr-preview'>...</div><input id='attrs-9a28712a-989a-41c6-bb9e-5d356ca92cf4' class='xr-var-attrs-in' type='checkbox' ><label for='attrs-9a28712a-989a-41c6-bb9e-5d356ca92cf4' title='Show/Hide attributes'><svg class='icon xr-icon-file-text2'><use xlink:href='#icon-file-text2'></use></svg></label><input id='data-9ba170f1-030f-4ad1-a283-ffdc05f69b1a' class='xr-var-data-in' type='checkbox'><label for='data-9ba170f1-030f-4ad1-a283-ffdc05f69b1a' title='Show/Hide data repr'><svg class='icon xr-icon-database'><use xlink:href='#icon-database'></use></svg></label><div class='xr-var-attrs'><dl class='xr-attrs'><dt><span>long_name :</span></dt><dd>Latitude of the station, best estimate</dd><dt><span>standard_name :</span></dt><dd>latitude</dd><dt><span>units :</span></dt><dd>degree_north</dd><dt><span>valid_min :</span></dt><dd>-90.0</dd><dt><span>valid_max :</span></dt><dd>90.0</dd><dt><span>axis :</span></dt><dd>Y</dd></dl></div><div class='xr-var-data'><pre>[419 values with dtype=float64]</pre></div></li><li class='xr-var-item'><div class='xr-var-name'><span>LONGITUDE</span></div><div class='xr-var-dims'>(N_PROF)</div><div class='xr-var-dtype'>float64</div><div class='xr-var-preview xr-preview'>...</div><input id='attrs-b1143c4b-2aa0-4832-ac48-845b32a1eaac' class='xr-var-attrs-in' type='checkbox' ><label for='attrs-b1143c4b-2aa0-4832-ac48-845b32a1eaac' title='Show/Hide attributes'><svg class='icon xr-icon-file-text2'><use xlink:href='#icon-file-text2'></use></svg></label><input id='data-bb49df4e-3286-4e78-8b63-501b705f2e77' class='xr-var-data-in' type='checkbox'><label for='data-bb49df4e-3286-4e78-8b63-501b705f2e77' title='Show/Hide data repr'><svg class='icon xr-icon-database'><use xlink:href='#icon-database'></use></svg></label><div class='xr-var-attrs'><dl class='xr-attrs'><dt><span>long_name :</span></dt><dd>Longitude of the station, best estimate</dd><dt><span>standard_name :</span></dt><dd>longitude</dd><dt><span>units :</span></dt><dd>degree_east</dd><dt><span>valid_min :</span></dt><dd>-180.0</dd><dt><span>valid_max :</span></dt><dd>180.0</dd><dt><span>axis :</span></dt><dd>X</dd></dl></div><div class='xr-var-data'><pre>[419 values with dtype=float64]</pre></div></li><li class='xr-var-item'><div class='xr-var-name'><span>POSITION_QC</span></div><div class='xr-var-dims'>(N_PROF)</div><div class='xr-var-dtype'>object</div><div class='xr-var-preview xr-preview'>...</div><input id='attrs-8784bd1d-f541-4ee6-8b53-00b28939b156' class='xr-var-attrs-in' type='checkbox' ><label for='attrs-8784bd1d-f541-4ee6-8b53-00b28939b156' title='Show/Hide attributes'><svg class='icon xr-icon-file-text2'><use xlink:href='#icon-file-text2'></use></svg></label><input id='data-bf3eba11-5005-4b6e-bfe8-51caafdba2ab' class='xr-var-data-in' type='checkbox'><label for='data-bf3eba11-5005-4b6e-bfe8-51caafdba2ab' title='Show/Hide data repr'><svg class='icon xr-icon-database'><use xlink:href='#icon-database'></use></svg></label><div class='xr-var-attrs'><dl class='xr-attrs'><dt><span>long_name :</span></dt><dd>Quality on position (latitude and longitude)</dd><dt><span>conventions :</span></dt><dd>Argo reference table 2</dd></dl></div><div class='xr-var-data'><pre>[419 values with dtype=object]</pre></div></li><li class='xr-var-item'><div class='xr-var-name'><span>POSITIONING_SYSTEM</span></div><div class='xr-var-dims'>(N_PROF)</div><div class='xr-var-dtype'>object</div><div class='xr-var-preview xr-preview'>...</div><input id='attrs-3986d02f-4a33-4c71-9604-0001a0cfe0c2' class='xr-var-attrs-in' type='checkbox' ><label for='attrs-3986d02f-4a33-4c71-9604-0001a0cfe0c2' title='Show/Hide attributes'><svg class='icon xr-icon-file-text2'><use xlink:href='#icon-file-text2'></use></svg></label><input id='data-7f8328d7-1e02-4e39-9ee2-cefd2ebcd98d' class='xr-var-data-in' type='checkbox'><label for='data-7f8328d7-1e02-4e39-9ee2-cefd2ebcd98d' title='Show/Hide data repr'><svg class='icon xr-icon-database'><use xlink:href='#icon-database'></use></svg></label><div class='xr-var-attrs'><dl class='xr-attrs'><dt><span>long_name :</span></dt><dd>Positioning system</dd></dl></div><div class='xr-var-data'><pre>[419 values with dtype=object]</pre></div></li><li class='xr-var-item'><div class='xr-var-name'><span>VERTICAL_SAMPLING_SCHEME</span></div><div class='xr-var-dims'>(N_PROF)</div><div class='xr-var-dtype'>object</div><div class='xr-var-preview xr-preview'>...</div><input id='attrs-43840836-ac94-466c-9d8d-4b1f081e2d7f' class='xr-var-attrs-in' type='checkbox' ><label for='attrs-43840836-ac94-466c-9d8d-4b1f081e2d7f' title='Show/Hide attributes'><svg class='icon xr-icon-file-text2'><use xlink:href='#icon-file-text2'></use></svg></label><input id='data-9bc3c080-94dc-4f38-a321-67b861e110e2' class='xr-var-data-in' type='checkbox'><label for='data-9bc3c080-94dc-4f38-a321-67b861e110e2' title='Show/Hide data repr'><svg class='icon xr-icon-database'><use xlink:href='#icon-database'></use></svg></label><div class='xr-var-attrs'><dl class='xr-attrs'><dt><span>long_name :</span></dt><dd>Vertical sampling scheme</dd><dt><span>conventions :</span></dt><dd>Argo reference table 16</dd></dl></div><div class='xr-var-data'><pre>[419 values with dtype=object]</pre></div></li><li class='xr-var-item'><div class='xr-var-name'><span>CONFIG_MISSION_NUMBER</span></div><div class='xr-var-dims'>(N_PROF)</div><div class='xr-var-dtype'>float64</div><div class='xr-var-preview xr-preview'>...</div><input id='attrs-1e62e933-5f72-4e0b-bb4e-e99a80b819bf' class='xr-var-attrs-in' type='checkbox' ><label for='attrs-1e62e933-5f72-4e0b-bb4e-e99a80b819bf' title='Show/Hide attributes'><svg class='icon xr-icon-file-text2'><use xlink:href='#icon-file-text2'></use></svg></label><input id='data-9a5d916c-187a-4939-94fe-819b9322b579' class='xr-var-data-in' type='checkbox'><label for='data-9a5d916c-187a-4939-94fe-819b9322b579' title='Show/Hide data repr'><svg class='icon xr-icon-database'><use xlink:href='#icon-database'></use></svg></label><div class='xr-var-attrs'><dl class='xr-attrs'><dt><span>long_name :</span></dt><dd>Unique number denoting the missions performed by the float</dd><dt><span>conventions :</span></dt><dd>1...N, 1 : first complete mission</dd></dl></div><div class='xr-var-data'><pre>[419 values with dtype=float64]</pre></div></li><li class='xr-var-item'><div class='xr-var-name'><span>PROFILE_PRES_QC</span></div><div class='xr-var-dims'>(N_PROF)</div><div class='xr-var-dtype'>object</div><div class='xr-var-preview xr-preview'>...</div><input id='attrs-b90ccc8f-bdb8-4421-b8a5-9ef828699f26' class='xr-var-attrs-in' type='checkbox' ><label for='attrs-b90ccc8f-bdb8-4421-b8a5-9ef828699f26' title='Show/Hide attributes'><svg class='icon xr-icon-file-text2'><use xlink:href='#icon-file-text2'></use></svg></label><input id='data-6f35d97a-99cd-480d-9c88-25de30fe4b13' class='xr-var-data-in' type='checkbox'><label for='data-6f35d97a-99cd-480d-9c88-25de30fe4b13' title='Show/Hide data repr'><svg class='icon xr-icon-database'><use xlink:href='#icon-database'></use></svg></label><div class='xr-var-attrs'><dl class='xr-attrs'><dt><span>long_name :</span></dt><dd>Global quality flag of PRES profile</dd><dt><span>conventions :</span></dt><dd>Argo reference table 2a</dd></dl></div><div class='xr-var-data'><pre>[419 values with dtype=object]</pre></div></li><li class='xr-var-item'><div class='xr-var-name'><span>PROFILE_TEMP_QC</span></div><div class='xr-var-dims'>(N_PROF)</div><div class='xr-var-dtype'>object</div><div class='xr-var-preview xr-preview'>...</div><input id='attrs-adb47f87-5d32-4bf0-992b-88885c63145f' class='xr-var-attrs-in' type='checkbox' ><label for='attrs-adb47f87-5d32-4bf0-992b-88885c63145f' title='Show/Hide attributes'><svg class='icon xr-icon-file-text2'><use xlink:href='#icon-file-text2'></use></svg></label><input id='data-2579931d-5d5a-4d42-9efd-b3721b547849' class='xr-var-data-in' type='checkbox'><label for='data-2579931d-5d5a-4d42-9efd-b3721b547849' title='Show/Hide data repr'><svg class='icon xr-icon-database'><use xlink:href='#icon-database'></use></svg></label><div class='xr-var-attrs'><dl class='xr-attrs'><dt><span>long_name :</span></dt><dd>Global quality flag of TEMP profile</dd><dt><span>conventions :</span></dt><dd>Argo reference table 2a</dd></dl></div><div class='xr-var-data'><pre>[419 values with dtype=object]</pre></div></li><li class='xr-var-item'><div class='xr-var-name'><span>PROFILE_PSAL_QC</span></div><div class='xr-var-dims'>(N_PROF)</div><div class='xr-var-dtype'>object</div><div class='xr-var-preview xr-preview'>...</div><input id='attrs-2cca6c5d-bcc9-4529-8bf3-59cf7f5f0525' class='xr-var-attrs-in' type='checkbox' ><label for='attrs-2cca6c5d-bcc9-4529-8bf3-59cf7f5f0525' title='Show/Hide attributes'><svg class='icon xr-icon-file-text2'><use xlink:href='#icon-file-text2'></use></svg></label><input id='data-566680dd-52e6-478c-8647-79d5cd7deb6f' class='xr-var-data-in' type='checkbox'><label for='data-566680dd-52e6-478c-8647-79d5cd7deb6f' title='Show/Hide data repr'><svg class='icon xr-icon-database'><use xlink:href='#icon-database'></use></svg></label><div class='xr-var-attrs'><dl class='xr-attrs'><dt><span>long_name :</span></dt><dd>Global quality flag of PSAL profile</dd><dt><span>conventions :</span></dt><dd>Argo reference table 2a</dd></dl></div><div class='xr-var-data'><pre>[419 values with dtype=object]</pre></div></li><li class='xr-var-item'><div class='xr-var-name'><span>PRES</span></div><div class='xr-var-dims'>(N_PROF, N_LEVELS)</div><div class='xr-var-dtype'>float32</div><div class='xr-var-preview xr-preview'>...</div><input id='attrs-42ae2871-7399-4dc3-9511-b777f24a95a1' class='xr-var-attrs-in' type='checkbox' ><label for='attrs-42ae2871-7399-4dc3-9511-b777f24a95a1' title='Show/Hide attributes'><svg class='icon xr-icon-file-text2'><use xlink:href='#icon-file-text2'></use></svg></label><input id='data-c39943ea-88be-40e9-bcd5-812957fa9a22' class='xr-var-data-in' type='checkbox'><label for='data-c39943ea-88be-40e9-bcd5-812957fa9a22' title='Show/Hide data repr'><svg class='icon xr-icon-database'><use xlink:href='#icon-database'></use></svg></label><div class='xr-var-attrs'><dl class='xr-attrs'><dt><span>long_name :</span></dt><dd>Sea water pressure, equals 0 at sea-level</dd><dt><span>standard_name :</span></dt><dd>sea_water_pressure</dd><dt><span>units :</span></dt><dd>decibar</dd><dt><span>valid_min :</span></dt><dd>0.0</dd><dt><span>valid_max :</span></dt><dd>12000.0</dd><dt><span>C_format :</span></dt><dd>%7.1f</dd><dt><span>FORTRAN_format :</span></dt><dd>F7.1</dd><dt><span>resolution :</span></dt><dd>0.1</dd><dt><span>axis :</span></dt><dd>Z</dd></dl></div><div class='xr-var-data'><pre>[429056 values with dtype=float32]</pre></div></li><li class='xr-var-item'><div class='xr-var-name'><span>PRES_QC</span></div><div class='xr-var-dims'>(N_PROF, N_LEVELS)</div><div class='xr-var-dtype'>object</div><div class='xr-var-preview xr-preview'>...</div><input id='attrs-c4dbe4b3-62fa-4542-8f83-a11ac961e9d7' class='xr-var-attrs-in' type='checkbox' ><label for='attrs-c4dbe4b3-62fa-4542-8f83-a11ac961e9d7' title='Show/Hide attributes'><svg class='icon xr-icon-file-text2'><use xlink:href='#icon-file-text2'></use></svg></label><input id='data-99e43c34-3456-448b-9f0f-15a094b8584a' class='xr-var-data-in' type='checkbox'><label for='data-99e43c34-3456-448b-9f0f-15a094b8584a' title='Show/Hide data repr'><svg class='icon xr-icon-database'><use xlink:href='#icon-database'></use></svg></label><div class='xr-var-attrs'><dl class='xr-attrs'><dt><span>long_name :</span></dt><dd>quality flag</dd><dt><span>conventions :</span></dt><dd>Argo reference table 2</dd></dl></div><div class='xr-var-data'><pre>[429056 values with dtype=object]</pre></div></li><li class='xr-var-item'><div class='xr-var-name'><span>PRES_ADJUSTED</span></div><div class='xr-var-dims'>(N_PROF, N_LEVELS)</div><div class='xr-var-dtype'>float32</div><div class='xr-var-preview xr-preview'>...</div><input id='attrs-2f3f55d5-a002-4666-b053-5dd9f8e17f65' class='xr-var-attrs-in' type='checkbox' ><label for='attrs-2f3f55d5-a002-4666-b053-5dd9f8e17f65' title='Show/Hide attributes'><svg class='icon xr-icon-file-text2'><use xlink:href='#icon-file-text2'></use></svg></label><input id='data-1e7702e4-3e34-414b-a062-cb685299149f' class='xr-var-data-in' type='checkbox'><label for='data-1e7702e4-3e34-414b-a062-cb685299149f' title='Show/Hide data repr'><svg class='icon xr-icon-database'><use xlink:href='#icon-database'></use></svg></label><div class='xr-var-attrs'><dl class='xr-attrs'><dt><span>long_name :</span></dt><dd>Sea water pressure, equals 0 at sea-level</dd><dt><span>standard_name :</span></dt><dd>sea_water_pressure</dd><dt><span>units :</span></dt><dd>decibar</dd><dt><span>valid_min :</span></dt><dd>0.0</dd><dt><span>valid_max :</span></dt><dd>12000.0</dd><dt><span>C_format :</span></dt><dd>%7.1f</dd><dt><span>FORTRAN_format :</span></dt><dd>F7.1</dd><dt><span>resolution :</span></dt><dd>0.1</dd></dl></div><div class='xr-var-data'><pre>[429056 values with dtype=float32]</pre></div></li><li class='xr-var-item'><div class='xr-var-name'><span>PRES_ADJUSTED_QC</span></div><div class='xr-var-dims'>(N_PROF, N_LEVELS)</div><div class='xr-var-dtype'>object</div><div class='xr-var-preview xr-preview'>...</div><input id='attrs-7bb3f566-4610-4c26-a590-da5300310787' class='xr-var-attrs-in' type='checkbox' ><label for='attrs-7bb3f566-4610-4c26-a590-da5300310787' title='Show/Hide attributes'><svg class='icon xr-icon-file-text2'><use xlink:href='#icon-file-text2'></use></svg></label><input id='data-10b7eafd-2af9-4d29-985b-5f1dfe600f6e' class='xr-var-data-in' type='checkbox'><label for='data-10b7eafd-2af9-4d29-985b-5f1dfe600f6e' title='Show/Hide data repr'><svg class='icon xr-icon-database'><use xlink:href='#icon-database'></use></svg></label><div class='xr-var-attrs'><dl class='xr-attrs'><dt><span>long_name :</span></dt><dd>quality flag</dd><dt><span>conventions :</span></dt><dd>Argo reference table 2</dd></dl></div><div class='xr-var-data'><pre>[429056 values with dtype=object]</pre></div></li><li class='xr-var-item'><div class='xr-var-name'><span>PRES_ADJUSTED_ERROR</span></div><div class='xr-var-dims'>(N_PROF, N_LEVELS)</div><div class='xr-var-dtype'>float32</div><div class='xr-var-preview xr-preview'>...</div><input id='attrs-e2eeb3cd-7036-4cba-b68a-b8935d0be656' class='xr-var-attrs-in' type='checkbox' ><label for='attrs-e2eeb3cd-7036-4cba-b68a-b8935d0be656' title='Show/Hide attributes'><svg class='icon xr-icon-file-text2'><use xlink:href='#icon-file-text2'></use></svg></label><input id='data-f2a4e0d1-02ca-4ce5-979f-4590972c2458' class='xr-var-data-in' type='checkbox'><label for='data-f2a4e0d1-02ca-4ce5-979f-4590972c2458' title='Show/Hide data repr'><svg class='icon xr-icon-database'><use xlink:href='#icon-database'></use></svg></label><div class='xr-var-attrs'><dl class='xr-attrs'><dt><span>long_name :</span></dt><dd>Contains the error on the adjusted values as determined by the delayed mode QC process</dd><dt><span>units :</span></dt><dd>decibar</dd><dt><span>C_format :</span></dt><dd>%7.1f</dd><dt><span>FORTRAN_format :</span></dt><dd>F7.1</dd><dt><span>resolution :</span></dt><dd>0.1</dd></dl></div><div class='xr-var-data'><pre>[429056 values with dtype=float32]</pre></div></li><li class='xr-var-item'><div class='xr-var-name'><span>TEMP</span></div><div class='xr-var-dims'>(N_PROF, N_LEVELS)</div><div class='xr-var-dtype'>float32</div><div class='xr-var-preview xr-preview'>...</div><input id='attrs-d484e042-601e-45a0-ab4b-d699e8a73120' class='xr-var-attrs-in' type='checkbox' ><label for='attrs-d484e042-601e-45a0-ab4b-d699e8a73120' title='Show/Hide attributes'><svg class='icon xr-icon-file-text2'><use xlink:href='#icon-file-text2'></use></svg></label><input id='data-7a2a4656-64b7-45f9-8ff7-ed55e58fa407' class='xr-var-data-in' type='checkbox'><label for='data-7a2a4656-64b7-45f9-8ff7-ed55e58fa407' title='Show/Hide data repr'><svg class='icon xr-icon-database'><use xlink:href='#icon-database'></use></svg></label><div class='xr-var-attrs'><dl class='xr-attrs'><dt><span>long_name :</span></dt><dd>Sea temperature in-situ ITS-90 scale</dd><dt><span>standard_name :</span></dt><dd>sea_water_temperature</dd><dt><span>units :</span></dt><dd>degree_Celsius</dd><dt><span>valid_min :</span></dt><dd>-2.5</dd><dt><span>valid_max :</span></dt><dd>40.0</dd><dt><span>C_format :</span></dt><dd>%10.3f</dd><dt><span>FORTRAN_format :</span></dt><dd>F10.3</dd><dt><span>resolution :</span></dt><dd>0.001</dd></dl></div><div class='xr-var-data'><pre>[429056 values with dtype=float32]</pre></div></li><li class='xr-var-item'><div class='xr-var-name'><span>TEMP_QC</span></div><div class='xr-var-dims'>(N_PROF, N_LEVELS)</div><div class='xr-var-dtype'>object</div><div class='xr-var-preview xr-preview'>...</div><input id='attrs-086c4b36-6638-4143-9260-a7a94fb8d045' class='xr-var-attrs-in' type='checkbox' ><label for='attrs-086c4b36-6638-4143-9260-a7a94fb8d045' title='Show/Hide attributes'><svg class='icon xr-icon-file-text2'><use xlink:href='#icon-file-text2'></use></svg></label><input id='data-4dbacc9d-277f-477c-9039-dbe0644a851c' class='xr-var-data-in' type='checkbox'><label for='data-4dbacc9d-277f-477c-9039-dbe0644a851c' title='Show/Hide data repr'><svg class='icon xr-icon-database'><use xlink:href='#icon-database'></use></svg></label><div class='xr-var-attrs'><dl class='xr-attrs'><dt><span>long_name :</span></dt><dd>quality flag</dd><dt><span>conventions :</span></dt><dd>Argo reference table 2</dd></dl></div><div class='xr-var-data'><pre>[429056 values with dtype=object]</pre></div></li><li class='xr-var-item'><div class='xr-var-name'><span>TEMP_ADJUSTED</span></div><div class='xr-var-dims'>(N_PROF, N_LEVELS)</div><div class='xr-var-dtype'>float32</div><div class='xr-var-preview xr-preview'>...</div><input id='attrs-d71fda7e-611f-42c3-aa70-76396ed97da8' class='xr-var-attrs-in' type='checkbox' ><label for='attrs-d71fda7e-611f-42c3-aa70-76396ed97da8' title='Show/Hide attributes'><svg class='icon xr-icon-file-text2'><use xlink:href='#icon-file-text2'></use></svg></label><input id='data-00fd3a65-7386-481d-a77a-14445d2bf9d2' class='xr-var-data-in' type='checkbox'><label for='data-00fd3a65-7386-481d-a77a-14445d2bf9d2' title='Show/Hide data repr'><svg class='icon xr-icon-database'><use xlink:href='#icon-database'></use></svg></label><div class='xr-var-attrs'><dl class='xr-attrs'><dt><span>long_name :</span></dt><dd>Sea temperature in-situ ITS-90 scale</dd><dt><span>standard_name :</span></dt><dd>sea_water_temperature</dd><dt><span>units :</span></dt><dd>degree_Celsius</dd><dt><span>valid_min :</span></dt><dd>-2.5</dd><dt><span>valid_max :</span></dt><dd>40.0</dd><dt><span>C_format :</span></dt><dd>%10.3f</dd><dt><span>FORTRAN_format :</span></dt><dd>F10.3</dd><dt><span>resolution :</span></dt><dd>0.001</dd></dl></div><div class='xr-var-data'><pre>[429056 values with dtype=float32]</pre></div></li><li class='xr-var-item'><div class='xr-var-name'><span>TEMP_ADJUSTED_QC</span></div><div class='xr-var-dims'>(N_PROF, N_LEVELS)</div><div class='xr-var-dtype'>object</div><div class='xr-var-preview xr-preview'>...</div><input id='attrs-ba42cfaf-d8a9-4649-a957-43b7c9a94778' class='xr-var-attrs-in' type='checkbox' ><label for='attrs-ba42cfaf-d8a9-4649-a957-43b7c9a94778' title='Show/Hide attributes'><svg class='icon xr-icon-file-text2'><use xlink:href='#icon-file-text2'></use></svg></label><input id='data-a9517a03-de8f-4a25-9bd8-c52b77bac350' class='xr-var-data-in' type='checkbox'><label for='data-a9517a03-de8f-4a25-9bd8-c52b77bac350' title='Show/Hide data repr'><svg class='icon xr-icon-database'><use xlink:href='#icon-database'></use></svg></label><div class='xr-var-attrs'><dl class='xr-attrs'><dt><span>long_name :</span></dt><dd>quality flag</dd><dt><span>conventions :</span></dt><dd>Argo reference table 2</dd></dl></div><div class='xr-var-data'><pre>[429056 values with dtype=object]</pre></div></li><li class='xr-var-item'><div class='xr-var-name'><span>TEMP_ADJUSTED_ERROR</span></div><div class='xr-var-dims'>(N_PROF, N_LEVELS)</div><div class='xr-var-dtype'>float32</div><div class='xr-var-preview xr-preview'>...</div><input id='attrs-93eaa387-0ddc-457b-9640-900c5f834521' class='xr-var-attrs-in' type='checkbox' ><label for='attrs-93eaa387-0ddc-457b-9640-900c5f834521' title='Show/Hide attributes'><svg class='icon xr-icon-file-text2'><use xlink:href='#icon-file-text2'></use></svg></label><input id='data-24133210-4b9b-4979-ba8a-dc1c62ebc0c8' class='xr-var-data-in' type='checkbox'><label for='data-24133210-4b9b-4979-ba8a-dc1c62ebc0c8' title='Show/Hide data repr'><svg class='icon xr-icon-database'><use xlink:href='#icon-database'></use></svg></label><div class='xr-var-attrs'><dl class='xr-attrs'><dt><span>long_name :</span></dt><dd>Contains the error on the adjusted values as determined by the delayed mode QC process</dd><dt><span>units :</span></dt><dd>degree_Celsius</dd><dt><span>C_format :</span></dt><dd>%10.3f</dd><dt><span>FORTRAN_format :</span></dt><dd>F10.3</dd><dt><span>resolution :</span></dt><dd>0.001</dd></dl></div><div class='xr-var-data'><pre>[429056 values with dtype=float32]</pre></div></li><li class='xr-var-item'><div class='xr-var-name'><span>PSAL</span></div><div class='xr-var-dims'>(N_PROF, N_LEVELS)</div><div class='xr-var-dtype'>float32</div><div class='xr-var-preview xr-preview'>...</div><input id='attrs-28ab38f5-c931-46a2-b63b-e9fe3c473739' class='xr-var-attrs-in' type='checkbox' ><label for='attrs-28ab38f5-c931-46a2-b63b-e9fe3c473739' title='Show/Hide attributes'><svg class='icon xr-icon-file-text2'><use xlink:href='#icon-file-text2'></use></svg></label><input id='data-3d4ba8eb-805c-4c8e-a8cb-282bb5005523' class='xr-var-data-in' type='checkbox'><label for='data-3d4ba8eb-805c-4c8e-a8cb-282bb5005523' title='Show/Hide data repr'><svg class='icon xr-icon-database'><use xlink:href='#icon-database'></use></svg></label><div class='xr-var-attrs'><dl class='xr-attrs'><dt><span>long_name :</span></dt><dd>Practical salinity</dd><dt><span>standard_name :</span></dt><dd>sea_water_salinity</dd><dt><span>units :</span></dt><dd>psu</dd><dt><span>valid_min :</span></dt><dd>2.0</dd><dt><span>valid_max :</span></dt><dd>41.0</dd><dt><span>C_format :</span></dt><dd>%10.3f</dd><dt><span>FORTRAN_format :</span></dt><dd>F10.3</dd><dt><span>resolution :</span></dt><dd>0.001</dd></dl></div><div class='xr-var-data'><pre>[429056 values with dtype=float32]</pre></div></li><li class='xr-var-item'><div class='xr-var-name'><span>PSAL_QC</span></div><div class='xr-var-dims'>(N_PROF, N_LEVELS)</div><div class='xr-var-dtype'>object</div><div class='xr-var-preview xr-preview'>...</div><input id='attrs-c8adf912-0da7-489b-940c-8cf89c01fc76' class='xr-var-attrs-in' type='checkbox' ><label for='attrs-c8adf912-0da7-489b-940c-8cf89c01fc76' title='Show/Hide attributes'><svg class='icon xr-icon-file-text2'><use xlink:href='#icon-file-text2'></use></svg></label><input id='data-556bdc1a-fe4d-4576-b17a-06b6126db4af' class='xr-var-data-in' type='checkbox'><label for='data-556bdc1a-fe4d-4576-b17a-06b6126db4af' title='Show/Hide data repr'><svg class='icon xr-icon-database'><use xlink:href='#icon-database'></use></svg></label><div class='xr-var-attrs'><dl class='xr-attrs'><dt><span>long_name :</span></dt><dd>quality flag</dd><dt><span>conventions :</span></dt><dd>Argo reference table 2</dd></dl></div><div class='xr-var-data'><pre>[429056 values with dtype=object]</pre></div></li><li class='xr-var-item'><div class='xr-var-name'><span>PSAL_ADJUSTED</span></div><div class='xr-var-dims'>(N_PROF, N_LEVELS)</div><div class='xr-var-dtype'>float32</div><div class='xr-var-preview xr-preview'>...</div><input id='attrs-600aba03-bc33-4e5a-8132-befe46cdfd0d' class='xr-var-attrs-in' type='checkbox' ><label for='attrs-600aba03-bc33-4e5a-8132-befe46cdfd0d' title='Show/Hide attributes'><svg class='icon xr-icon-file-text2'><use xlink:href='#icon-file-text2'></use></svg></label><input id='data-eb2c0c38-1f13-4081-8469-94af2e38246f' class='xr-var-data-in' type='checkbox'><label for='data-eb2c0c38-1f13-4081-8469-94af2e38246f' title='Show/Hide data repr'><svg class='icon xr-icon-database'><use xlink:href='#icon-database'></use></svg></label><div class='xr-var-attrs'><dl class='xr-attrs'><dt><span>long_name :</span></dt><dd>Practical salinity</dd><dt><span>standard_name :</span></dt><dd>sea_water_salinity</dd><dt><span>units :</span></dt><dd>psu</dd><dt><span>valid_min :</span></dt><dd>2.0</dd><dt><span>valid_max :</span></dt><dd>41.0</dd><dt><span>C_format :</span></dt><dd>%10.3f</dd><dt><span>FORTRAN_format :</span></dt><dd>F10.3</dd><dt><span>resolution :</span></dt><dd>0.001</dd></dl></div><div class='xr-var-data'><pre>[429056 values with dtype=float32]</pre></div></li><li class='xr-var-item'><div class='xr-var-name'><span>PSAL_ADJUSTED_QC</span></div><div class='xr-var-dims'>(N_PROF, N_LEVELS)</div><div class='xr-var-dtype'>object</div><div class='xr-var-preview xr-preview'>...</div><input id='attrs-8bb205da-644f-4c46-837b-24f050caa864' class='xr-var-attrs-in' type='checkbox' ><label for='attrs-8bb205da-644f-4c46-837b-24f050caa864' title='Show/Hide attributes'><svg class='icon xr-icon-file-text2'><use xlink:href='#icon-file-text2'></use></svg></label><input id='data-d6e05878-13a4-4d61-a0f4-0177bcba7cf5' class='xr-var-data-in' type='checkbox'><label for='data-d6e05878-13a4-4d61-a0f4-0177bcba7cf5' title='Show/Hide data repr'><svg class='icon xr-icon-database'><use xlink:href='#icon-database'></use></svg></label><div class='xr-var-attrs'><dl class='xr-attrs'><dt><span>long_name :</span></dt><dd>quality flag</dd><dt><span>conventions :</span></dt><dd>Argo reference table 2</dd></dl></div><div class='xr-var-data'><pre>[429056 values with dtype=object]</pre></div></li><li class='xr-var-item'><div class='xr-var-name'><span>PSAL_ADJUSTED_ERROR</span></div><div class='xr-var-dims'>(N_PROF, N_LEVELS)</div><div class='xr-var-dtype'>float32</div><div class='xr-var-preview xr-preview'>...</div><input id='attrs-5742ceb0-826c-4c77-bdd2-2356c5553900' class='xr-var-attrs-in' type='checkbox' ><label for='attrs-5742ceb0-826c-4c77-bdd2-2356c5553900' title='Show/Hide attributes'><svg class='icon xr-icon-file-text2'><use xlink:href='#icon-file-text2'></use></svg></label><input id='data-de3ca5dc-fb32-49a4-ac8e-87016fa701a0' class='xr-var-data-in' type='checkbox'><label for='data-de3ca5dc-fb32-49a4-ac8e-87016fa701a0' title='Show/Hide data repr'><svg class='icon xr-icon-database'><use xlink:href='#icon-database'></use></svg></label><div class='xr-var-attrs'><dl class='xr-attrs'><dt><span>long_name :</span></dt><dd>Contains the error on the adjusted values as determined by the delayed mode QC process</dd><dt><span>units :</span></dt><dd>psu</dd><dt><span>C_format :</span></dt><dd>%10.3f</dd><dt><span>FORTRAN_format :</span></dt><dd>F10.3</dd><dt><span>resolution :</span></dt><dd>0.001</dd></dl></div><div class='xr-var-data'><pre>[429056 values with dtype=float32]</pre></div></li><li class='xr-var-item'><div class='xr-var-name'><span>PARAMETER</span></div><div class='xr-var-dims'>(N_PROF, N_CALIB, N_PARAM)</div><div class='xr-var-dtype'>object</div><div class='xr-var-preview xr-preview'>...</div><input id='attrs-47ad5c52-62a6-4e5f-813f-fae0089ad769' class='xr-var-attrs-in' type='checkbox' ><label for='attrs-47ad5c52-62a6-4e5f-813f-fae0089ad769' title='Show/Hide attributes'><svg class='icon xr-icon-file-text2'><use xlink:href='#icon-file-text2'></use></svg></label><input id='data-a79df2c7-9470-4aed-ba71-4a9fd4cc179a' class='xr-var-data-in' type='checkbox'><label for='data-a79df2c7-9470-4aed-ba71-4a9fd4cc179a' title='Show/Hide data repr'><svg class='icon xr-icon-database'><use xlink:href='#icon-database'></use></svg></label><div class='xr-var-attrs'><dl class='xr-attrs'><dt><span>long_name :</span></dt><dd>List of parameters with calibration information</dd><dt><span>conventions :</span></dt><dd>Argo reference table 3</dd></dl></div><div class='xr-var-data'><pre>[1257 values with dtype=object]</pre></div></li><li class='xr-var-item'><div class='xr-var-name'><span>SCIENTIFIC_CALIB_EQUATION</span></div><div class='xr-var-dims'>(N_PROF, N_CALIB, N_PARAM)</div><div class='xr-var-dtype'>object</div><div class='xr-var-preview xr-preview'>...</div><input id='attrs-8b741bdd-7f61-4be4-8ccd-7397774629f6' class='xr-var-attrs-in' type='checkbox' ><label for='attrs-8b741bdd-7f61-4be4-8ccd-7397774629f6' title='Show/Hide attributes'><svg class='icon xr-icon-file-text2'><use xlink:href='#icon-file-text2'></use></svg></label><input id='data-1542d49d-7030-4724-affd-7e4d470c1064' class='xr-var-data-in' type='checkbox'><label for='data-1542d49d-7030-4724-affd-7e4d470c1064' title='Show/Hide data repr'><svg class='icon xr-icon-database'><use xlink:href='#icon-database'></use></svg></label><div class='xr-var-attrs'><dl class='xr-attrs'><dt><span>long_name :</span></dt><dd>Calibration equation for this parameter</dd></dl></div><div class='xr-var-data'><pre>[1257 values with dtype=object]</pre></div></li><li class='xr-var-item'><div class='xr-var-name'><span>SCIENTIFIC_CALIB_COEFFICIENT</span></div><div class='xr-var-dims'>(N_PROF, N_CALIB, N_PARAM)</div><div class='xr-var-dtype'>object</div><div class='xr-var-preview xr-preview'>...</div><input id='attrs-ad4b9f43-07da-4cc4-9acc-147e361da6fa' class='xr-var-attrs-in' type='checkbox' ><label for='attrs-ad4b9f43-07da-4cc4-9acc-147e361da6fa' title='Show/Hide attributes'><svg class='icon xr-icon-file-text2'><use xlink:href='#icon-file-text2'></use></svg></label><input id='data-745f2365-024c-47fe-b577-57d8d364cffa' class='xr-var-data-in' type='checkbox'><label for='data-745f2365-024c-47fe-b577-57d8d364cffa' title='Show/Hide data repr'><svg class='icon xr-icon-database'><use xlink:href='#icon-database'></use></svg></label><div class='xr-var-attrs'><dl class='xr-attrs'><dt><span>long_name :</span></dt><dd>Calibration coefficients for this equation</dd></dl></div><div class='xr-var-data'><pre>[1257 values with dtype=object]</pre></div></li><li class='xr-var-item'><div class='xr-var-name'><span>SCIENTIFIC_CALIB_COMMENT</span></div><div class='xr-var-dims'>(N_PROF, N_CALIB, N_PARAM)</div><div class='xr-var-dtype'>object</div><div class='xr-var-preview xr-preview'>...</div><input id='attrs-c4ffb23c-7df0-4aa5-b688-a7fb45a03043' class='xr-var-attrs-in' type='checkbox' ><label for='attrs-c4ffb23c-7df0-4aa5-b688-a7fb45a03043' title='Show/Hide attributes'><svg class='icon xr-icon-file-text2'><use xlink:href='#icon-file-text2'></use></svg></label><input id='data-bee3f5bb-d5c7-438d-b073-7be46a0b952a' class='xr-var-data-in' type='checkbox'><label for='data-bee3f5bb-d5c7-438d-b073-7be46a0b952a' title='Show/Hide data repr'><svg class='icon xr-icon-database'><use xlink:href='#icon-database'></use></svg></label><div class='xr-var-attrs'><dl class='xr-attrs'><dt><span>long_name :</span></dt><dd>Comment applying to this parameter calibration</dd></dl></div><div class='xr-var-data'><pre>[1257 values with dtype=object]</pre></div></li><li class='xr-var-item'><div class='xr-var-name'><span>SCIENTIFIC_CALIB_DATE</span></div><div class='xr-var-dims'>(N_PROF, N_CALIB, N_PARAM)</div><div class='xr-var-dtype'>object</div><div class='xr-var-preview xr-preview'>...</div><input id='attrs-8d5e67f1-4b52-4606-88aa-c491703a792d' class='xr-var-attrs-in' type='checkbox' ><label for='attrs-8d5e67f1-4b52-4606-88aa-c491703a792d' title='Show/Hide attributes'><svg class='icon xr-icon-file-text2'><use xlink:href='#icon-file-text2'></use></svg></label><input id='data-60ae12c9-1a80-4ae3-8f27-414d13fee1e2' class='xr-var-data-in' type='checkbox'><label for='data-60ae12c9-1a80-4ae3-8f27-414d13fee1e2' title='Show/Hide data repr'><svg class='icon xr-icon-database'><use xlink:href='#icon-database'></use></svg></label><div class='xr-var-attrs'><dl class='xr-attrs'><dt><span>long_name :</span></dt><dd>Date of calibration</dd><dt><span>conventions :</span></dt><dd>YYYYMMDDHHMISS</dd></dl></div><div class='xr-var-data'><pre>[1257 values with dtype=object]</pre></div></li></ul></div></li><li class='xr-section-item'><input id='section-3cb9d00c-7f75-44d9-a5ed-30e8244fd86f' class='xr-section-summary-in' type='checkbox' disabled ><label for='section-3cb9d00c-7f75-44d9-a5ed-30e8244fd86f' class='xr-section-summary'  title='Expand/collapse section'>Indexes: <span>(0)</span></label><div class='xr-section-inline-details'></div><div class='xr-section-details'><ul class='xr-var-list'></ul></div></li><li class='xr-section-item'><input id='section-b8408c02-565e-48f2-9429-f9100a6036cd' class='xr-section-summary-in' type='checkbox'  checked><label for='section-b8408c02-565e-48f2-9429-f9100a6036cd' class='xr-section-summary' >Attributes: <span>(9)</span></label><div class='xr-section-inline-details'></div><div class='xr-section-details'><dl class='xr-attrs'><dt><span>title :</span></dt><dd>Argo float aggregated multi-cycle profile</dd><dt><span>institution :</span></dt><dd>US GDAC</dd><dt><span>source :</span></dt><dd>Argo float</dd><dt><span>history :</span></dt><dd>2023-03-05T00:00:55Z</dd><dt><span>references :</span></dt><dd>http://www.argodatamgt.org/Documentation</dd><dt><span>comment :</span></dt><dd>free text</dd><dt><span>user_manual_version :</span></dt><dd>3.2</dd><dt><span>Conventions :</span></dt><dd>Argo-3.2 CF-1.6</dd><dt><span>featureType :</span></dt><dd>trajectoryProfile</dd></dl></div></li></ul></div></div>"
      ],
      "text/plain": [
       "<xarray.Dataset>\n",
       "Dimensions:                       (N_PROF: 419, N_PARAM: 3, N_LEVELS: 1024,\n",
       "                                   N_CALIB: 1)\n",
       "Dimensions without coordinates: N_PROF, N_PARAM, N_LEVELS, N_CALIB\n",
       "Data variables: (12/52)\n",
       "    DATA_TYPE                     object ...\n",
       "    FORMAT_VERSION                object ...\n",
       "    HANDBOOK_VERSION              object ...\n",
       "    REFERENCE_DATE_TIME           object ...\n",
       "    DATE_CREATION                 object ...\n",
       "    DATE_UPDATE                   object ...\n",
       "    ...                            ...\n",
       "    PSAL_ADJUSTED_ERROR           (N_PROF, N_LEVELS) float32 ...\n",
       "    PARAMETER                     (N_PROF, N_CALIB, N_PARAM) object ...\n",
       "    SCIENTIFIC_CALIB_EQUATION     (N_PROF, N_CALIB, N_PARAM) object ...\n",
       "    SCIENTIFIC_CALIB_COEFFICIENT  (N_PROF, N_CALIB, N_PARAM) object ...\n",
       "    SCIENTIFIC_CALIB_COMMENT      (N_PROF, N_CALIB, N_PARAM) object ...\n",
       "    SCIENTIFIC_CALIB_DATE         (N_PROF, N_CALIB, N_PARAM) object ...\n",
       "Attributes:\n",
       "    title:                Argo float aggregated multi-cycle profile\n",
       "    institution:          US GDAC\n",
       "    source:               Argo float\n",
       "    history:              2023-03-05T00:00:55Z\n",
       "    references:           http://www.argodatamgt.org/Documentation\n",
       "    comment:              free text\n",
       "    user_manual_version:  3.2\n",
       "    Conventions:          Argo-3.2 CF-1.6\n",
       "    featureType:          trajectoryProfile"
      ]
     },
     "execution_count": 11,
     "metadata": {},
     "output_type": "execute_result"
    }
   ],
   "source": [
    "# ds=xr.open_dataset('4901476_prof.nc')\n",
    "# ds=xr.open_dataset('4901477_prof.nc')\n",
    "ds=xr.open_dataset('4902916_prof.nc')\n",
    "ds\n"
   ]
  },
  {
   "cell_type": "code",
   "execution_count": 3,
   "id": "35aef3b8-92c8-4649-a851-b8d2df5cf216",
   "metadata": {
    "tags": []
   },
   "outputs": [
    {
     "data": {
      "image/png": "[encoded data removed]",
      "text/plain": [
       "<Figure size 640x480 with 2 Axes>"
      ]
     },
     "metadata": {},
     "output_type": "display_data"
    }
   ],
   "source": [
    "ds.TEMP_ADJUSTED[1:100].T.plot(cmap=plt.cm.plasma)\n",
    "plt.gca().invert_yaxis()"
   ]
  },
  {
   "cell_type": "code",
   "execution_count": null,
   "id": "2e428435-8a2a-4331-8347-9e4b6aea22f9",
   "metadata": {
    "tags": []
   },
   "outputs": [],
   "source": [
    "''' Obtuve las fechas de los respectivos perfiles'''\n",
    "# import pandas as pd\n",
    "# import numpy as np \n",
    "# Fechas=pd.DataFrame(np.array(ds.JULD[42:55].dt.strftime('%y/%m/%d').data) , \n",
    "#              np.array(ds.JULD[23:36].dt.strftime('%y/%m/%d').data))\n",
    "# Fechas\n",
    "# # Fechas.to_csv('C:/Users/Atmosfera/Pictures/ARGO/Estaciones.csv')"
   ]
  },
  {
   "cell_type": "markdown",
   "id": "f3a06ce9",
   "metadata": {},
   "source": [
    "#### Energia Potencial de Boyancia"
   ]
  },
  {
   "cell_type": "code",
   "execution_count": 12,
   "id": "e5c8e3df",
   "metadata": {
    "tags": []
   },
   "outputs": [],
   "source": [
    "################################# Diferencias Finitas\n",
    "def Dif (a,x):\n",
    "    ai =a[:-2]\n",
    "    bi =a[2:]\n",
    "    h = bi-ai\n",
    "    Dcen= (x[2:]-x[:-2])/(h)\n",
    "    return (Dcen)\n",
    "\n",
    "################################ Regla del Trapecio\n",
    "def integratrapecio_fi(xi,fi):\n",
    "    n = len(xi)\n",
    "    trapecios = np.zeros_like(xi)\n",
    "    dx = xi[1:]-xi[:-1]\n",
    "    trapecios = dx*(fi[1:]+fi[:-1])/2\n",
    "    return(trapecios)\n",
    "#################################  Arreglo de zeros\n",
    "PP= np.zeros(shape=(1020,350))\n",
    "Depth=np.zeros(shape=(1024,350))\n",
    "DPot=np.zeros(shape=(1024,350))\n",
    "BV=np.zeros(shape=(1023,350))\n",
    "for i in range(350):     ### Ciclo\n",
    "    lon = ds.LONGITUDE[i]\n",
    "    lat = ds.LATITUDE[i]\n",
    "    T = ds.TEMP_ADJUSTED[i]   # in situ T\n",
    "    P = ds.PRES_ADJUSTED[i]   # presión\n",
    "    Sp = ds.PSAL_ADJUSTED[i]  #salinidad práctica\n",
    "    SA = gsw.conversions.SA_from_SP(Sp, P, lon, lat) # SA a partir de salinidad potencial\n",
    "    Tp = gsw.conversions.pt0_from_t(SA, T, P) # temperatura potencial con p_ref=0\n",
    "    CT = gsw.conversions.CT_from_t(SA, T, P) # temperatura conservativa \n",
    "    ########################\n",
    "    Dens = gsw.density.sigma0(SA,CT) # densidad potencial referencia 0dbar - 1000\n",
    "    N2,p_mid=gsw.Nsquared(SA,CT,P)\n",
    "    z = -1*gsw.z_from_p(P,lat) # Depht real  a través de la Presion y Lat del perfil\n",
    "    d = np.array(Dens)\n",
    "    ###########3###########\n",
    "    DC = Dif(z,d)\n",
    "   #############################3\n",
    "    at = integratrapecio_fi(z[1:-1],DC) # arreglo con las áreas de los trapecios\n",
    "    ic= np.cumsum(at) # suma cumulativa de áreas de los trapecios\n",
    "    ############################\n",
    "    f1 = ic\n",
    "    a_t = integratrapecio_fi(z[2:-1],f1) # arreglo con las áreas de los trapecios\n",
    "    i_c = np.cumsum(a_t) # suma cumulativa de áreas de los trapecios #EPB\n",
    "    #######################33#\n",
    "    i_c=i_c\n",
    "    PP[:,i]=i_c\n",
    "    Depth[:,i]=z\n",
    "    DPot[:,i]=Dens\n",
    "    BV[:,i]=N2"
   ]
  },
  {
   "cell_type": "code",
   "execution_count": null,
   "id": "38512a09-e2f0-43d8-a2b8-70986af9166d",
   "metadata": {
    "tags": []
   },
   "outputs": [],
   "source": []
  },
  {
   "cell_type": "code",
   "execution_count": null,
   "id": "120e7eb5-3d49-41ae-b72f-81ce02e5fa0f",
   "metadata": {
    "tags": []
   },
   "outputs": [],
   "source": [
    "#Graficamos\n",
    "with sea.plotting_context('talk'):\n",
    "    fig,axs = plt.subplots(1,4,figsize=(7,4.5),sharey=True)\n",
    "    fig.suptitle(' Energía Potencial de Boyancia', fontsize =11,color ='k',y=0.93) #%ds.JULD[i].dt.strftime('%y/%m/%d').values, fontsize=12)\n",
    "    # fig.supxlabel(r'Energía ($J/m^3$)',fontsize=10,y=-0.03)\n",
    "    fig.supylabel('Profundidad (m)',fontsize=10,x=-0.02)\n",
    "    # fig.subplots_adjust(hspace=0)\n",
    "\n",
    "    axs[0].plot(PP[:,10],Depth[0:-4,10],'k',linewidth = 1.6,label=ds.JULD[10].dt.strftime('%y/%m/%d').values)\n",
    "    axs[0].plot([-50,400],[Depth[16,10],Depth[16,10]],'r--',label='MLD',linewidth=1.5)\n",
    "    axs[0].set_xlabel(r'Energía ($J/m^3$)',fontsize=7,y=-0.03)\n",
    "    axs[0].legend(fontsize=6)\n",
    "    axs[0].invert_yaxis()\n",
    "    axs[0].grid(linestyle='--',linewidth=0.7)\n",
    "    axs[0].set_ylim(180,-5)\n",
    "    axs[0].set_xlim(-55,400)\n",
    "    \n",
    "    axs[1].plot(PP[:,15],Depth[0:-4,15],'k',linewidth = 1.6,label=ds.JULD[20].dt.strftime('%y/%m/%d').values)\n",
    "    axs[1].plot([-50,400],[Depth[23,15],Depth[23,15]],'r--',label='MLD',linewidth=1.5)\n",
    "    axs[1].set_xlabel(r'Energía ($J/m^3$)',fontsize=7,y=-0.03)\n",
    "    axs[1].legend(fontsize=6)\n",
    "    axs[1].invert_yaxis()\n",
    "    axs[1].grid(linestyle='--',linewidth=0.7)\n",
    "    axs[1].set_ylim(180,-5)\n",
    "    axs[1].set_xlim(-55,400)\n",
    "    \n",
    "#     axs[2].plot(PP[:,100],z[0:-4],'k',linewidth = 1.6,label=ds.JULD[100].dt.strftime('%y/%m/%d').values)\n",
    "#     axs[2].plot([-50,400],[z[45],z[45]],'r--',label='MLD',linewidth=1.5)\n",
    "#     axs[2].set_xlabel(r'Energía ($J/m^3$)',fontsize=7,y=-0.03)\n",
    "#     axs[2].legend(fontsize=6)\n",
    "#     axs[2].invert_yaxis()\n",
    "#     axs[2].set_ylim(180,-5)\n",
    "#     axs[2].set_xlim(-55,400)\n",
    "#     axs[2].grid(linestyle='--',linewidth=0.7)\n",
    "    \n",
    "#     axs[3].plot(PP[:,105],z[0:-4],'k',linewidth = 1.6,label=ds.JULD[105].dt.strftime('%y/%m/%d').values)\n",
    "#     axs[3].plot([-50,400],[z[58],z[58]],'r--',label='MLD',linewidth=1.5)\n",
    "#     axs[3].set_xlabel(r'Energía ($J/m^3$)',fontsize=7,y=-0.03)\n",
    "#     axs[3].legend(fontsize=6)\n",
    "#     axs[3].invert_yaxis()\n",
    "#     axs[3].set_ylim(180,-5)\n",
    "#     axs[3].set_xlim(-55,400)\n",
    "#     axs[3].grid(linestyle='--',linewidth=0.7)"
   ]
  },
  {
   "cell_type": "markdown",
   "id": "432ca01a-b3bb-4dee-850d-2f871fa613a4",
   "metadata": {
    "tags": []
   },
   "source": [
    "#### format(np.mean(PP[:,1]),'.2f')"
   ]
  },
  {
   "cell_type": "code",
   "execution_count": 16,
   "id": "6722007f-5573-465b-a827-38987b37b8a8",
   "metadata": {
    "tags": []
   },
   "outputs": [
    {
     "data": {
      "text/plain": [
       "numpy.datetime64('2021-06-05T23:02:39.002470656')"
      ]
     },
     "execution_count": 16,
     "metadata": {},
     "output_type": "execute_result"
    }
   ],
   "source": [
    "ds.JULD[291].data"
   ]
  },
  {
   "cell_type": "code",
   "execution_count": 21,
   "id": "82d8c0c0-1290-4e09-9fa4-630a1eaa326d",
   "metadata": {
    "tags": []
   },
   "outputs": [
    {
     "data": {
      "text/plain": [
       "array([ 1.83308691,  4.69631888,  8.04651242, 11.65774983, 15.27546878,\n",
       "       19.20653456, 24.46344435, 31.95175504, 40.45926974, 49.42241322])"
      ]
     },
     "execution_count": 21,
     "metadata": {},
     "output_type": "execute_result"
    }
   ],
   "source": [
    "PP[0:10,291] "
   ]
  },
  {
   "cell_type": "code",
   "execution_count": null,
   "id": "eade3baa-626b-4b84-928d-8d6e0dd97f52",
   "metadata": {},
   "outputs": [],
   "source": []
  },
  {
   "cell_type": "code",
   "execution_count": 55,
   "id": "fb0db834-044a-4227-b228-7df4ebb21dca",
   "metadata": {
    "tags": []
   },
   "outputs": [
    {
     "data": {
      "image/png": "[encoded data removed]",
      "text/plain": [
       "<Figure size 250x550 with 1 Axes>"
      ]
     },
     "metadata": {},
     "output_type": "display_data"
    }
   ],
   "source": [
    "n= 0\n",
    "nprof=292\n",
    "with sea.plotting_context('talk'):\n",
    "    fig, ax = plt.subplots(figsize=(2.5,5.5))\n",
    "    ax.plot(PP[:,nprof],Depth[0:-4,nprof],'k',linewidth = 2,label=ds.JULD[nprof].dt.strftime('%y/%m/%d').values)\n",
    "    ax.set_ylabel( 'Profundidad (m)',fontsize=11)\n",
    "    ax.set_xlabel(r'Energía  ($J/m^3$)',fontsize=11)\n",
    "    ax.set_title('Energía potencial \\n de Boyancia', fontsize =12,color = 'black')\n",
    "    \n",
    "    ax.plot([-10,400],[Depth[n,nprof],Depth[n,nprof]],'r--',label=format(Depth[n,nprof],'.3f'),linewidth=1.5)\n",
    "    # ax.plot([-10,400],[Depth[14,nprof],Depth[14,nprof]],'b--',label=format(Depth[14,nprof],'.2f'),linewidth=1.5)\n",
    "    # ax.plot([-10,400],[z[11],z[11]],'r--',label=format(z[11],'.2f'),linewidth=1.5)\n",
    "    # ax.legend(fontsize=8)\n",
    "    ax.set_ylim(-5,150)\n",
    "    ax.set_xlim(-10,120)\n",
    "    ax.invert_yaxis()\n",
    "    ax.grid(linestyle='--',linewidth=0.7)\n",
    "    ax.legend(fontsize=10)"
   ]
  },
  {
   "cell_type": "code",
   "execution_count": null,
   "id": "621ce2c8-6914-40b7-984b-986976957836",
   "metadata": {
    "tags": []
   },
   "outputs": [],
   "source": [
    "PP.shape, Depth.shape , DPot.shape"
   ]
  },
  {
   "cell_type": "code",
   "execution_count": null,
   "id": "c758a6de-23ba-4763-adc2-ce644a8b6cce",
   "metadata": {
    "tags": []
   },
   "outputs": [],
   "source": [
    "num=80\n",
    "fig, ax1 = plt.subplots(figsize=(2,5))\n",
    "fig.tight_layout()  \n",
    "# fig.suptitle(' Estabilidad estatica vs Densidad ', fontsize=14)\n",
    "\n",
    "ax1.set_xlabel(r'EPB($J/m^3$)', fontsize=10)\n",
    "ax1.set_ylabel('Profundidad (m)')#,fontsize=10)\n",
    "ax1.plot(PP[:,num],Depth[0:-4,num] ,'k', linewidth = 2.5)\n",
    "ax1.tick_params(axis='x' ,labelcolor='k')\n",
    "# ax1.autoscale(True)\n",
    "\n",
    "ax2 = ax1.twiny()  # instantiate a second axes that shares the same x-axis\\\n",
    "\n",
    "ax2.set_xlabel(r'Densidad ($\\rho$)',color='blue',fontsize=10)  # we already handled the x-label with ax1\n",
    "ax2.plot(DPot[:,num],Depth[:,num],'blue',linewidth = 2.1)\n",
    "ax2.tick_params(axis='x', labelcolor='b',)\n",
    "ax2.invert_yaxis()\n",
    "\n",
    "ax1.grid(linestyle='--', linewidth=0.6)\n",
    "ax1.set_ylim(150,-5)\n",
    "ax1.set_xlim(-5,80)\n",
    "\n",
    "# ax1.set_xlim(23.8,26)"
   ]
  },
  {
   "cell_type": "code",
   "execution_count": null,
   "id": "07c9afc1-0906-4576-b77f-13e87adc008d",
   "metadata": {
    "tags": []
   },
   "outputs": [],
   "source": [
    "num=80\n",
    "fig, ax1 = plt.subplots(figsize=(2,5))\n",
    "fig.tight_layout()  \n",
    "# fig.suptitle(' Estabilidad estatica vs Densidad ', fontsize=14)\n",
    "\n",
    "ax1.set_xlabel(r'EPB($J/m^3$)', fontsize=10)\n",
    "ax1.set_ylabel('Profundidad (m)')#,fontsize=10)\n",
    "ax1.plot(PP[:,num],Depth[0:-4,num] ,'k', linewidth = 2.5)\n",
    "ax1.tick_params(axis='x' ,labelcolor='k')\n",
    "# ax1.autoscale(True)\n",
    "\n",
    "ax2 = ax1.twiny()  # instantiate a second axes that shares the same x-axis\\\n",
    "\n",
    "ax2.set_xlabel('Frecuencia de \\n Brunt-Väisälä (Hz)',color='red',fontsize=9)  # we already handled the x-label with ax1\n",
    "ax2.plot(BV[:,num],Depth[0:-1,num],'red',linewidth = 2.1)\n",
    "ax2.tick_params(axis='x', labelcolor='r',)\n",
    "ax2.invert_yaxis()\n",
    "\n",
    "ax1.grid(linestyle='--', linewidth=0.6)\n",
    "ax1.set_ylim(150,-5)\n",
    "ax1.set_xlim(-5,80)\n",
    "\n",
    "# ax1.set_xlim(23.8,26)"
   ]
  },
  {
   "cell_type": "code",
   "execution_count": null,
   "id": "1bbd22c5-5b3f-4b04-b5d0-591a93ecc550",
   "metadata": {
    "tags": []
   },
   "outputs": [],
   "source": [
    "num=80\n",
    "fig, ax1 = plt.subplots(figsize=(2,5))\n",
    "fig.tight_layout()  \n",
    "# fig.suptitle(' Estabilidad estatica vs Densidad ', fontsize=14)\n",
    "\n",
    "ax1.set_xlabel(r'Densidad ($\\rho$)',color='blue', fontsize=10)\n",
    "ax1.set_ylabel('Profundidad (m)')#,fontsize=10)\n",
    "ax1.plot(DPot[:,num],Depth[:,num] ,'b', linewidth = 2.5)\n",
    "ax1.tick_params(axis='x' ,labelcolor='b')\n",
    "# ax1.autoscale(True)\n",
    "\n",
    "ax2 = ax1.twiny()  # instantiate a second axes that shares the same x-axis\\\n",
    "\n",
    "ax2.set_xlabel('Frecuencia de \\n Brunt-Väisälä (Hz)',color='red',fontsize=9)  # we already handled the x-label with ax1\n",
    "ax2.plot(BV[:,num],Depth[0:-1,num],'red',linewidth = 2.5)\n",
    "ax2.tick_params(axis='x', labelcolor='r',)\n",
    "ax2.invert_yaxis()\n",
    "\n",
    "ax1.grid(linestyle='--', linewidth=0.6)\n",
    "ax1.set_ylim(150,-5)\n",
    "# ax1.set_xlim(-5,80)\n",
    "\n",
    "# ax1.set_xlim(23.8,26)"
   ]
  },
  {
   "cell_type": "code",
   "execution_count": null,
   "id": "5a3e853b-1c55-4812-a4de-b5a349def134",
   "metadata": {
    "tags": []
   },
   "outputs": [],
   "source": [
    "import matplotlib.pyplot as plt\n",
    "import matplotlib.gridspec as gridspec\n",
    "with sea.plotting_context('talk'):\n",
    "    fig =plt.figure(figsize=(2.9,4))\n",
    "    fig.tight_layout()\n",
    "    # fig.suptitle(' Estabilidad estatica vs Densidad ', fontsize=12, y=1.02 )\n",
    "\n",
    "    # gs = gridspec.GridSpec(3, 3,EPB vs $N^2$\n",
    "    #                       wspace=0.5, hspace=0.05)\n",
    "    gs = fig.add_gridspec(2, 2,wspace=0.5, hspace=0.4)\n",
    "    ax=fig.add_subplot(gs[:, 0])\n",
    "    color = 'tab:red'\n",
    "    ax.set_xlabel(' Brunt-Vaisala\\n Frecuency (Hz)', color=color, fontsize=11)\n",
    "    ax.set_ylabel('Profundidad (m)',fontsize=12)\n",
    "    ax.plot(BV[:,num],Depth[0:-1,num],'red',linewidth = 1.5)\n",
    "    ax.tick_params(axis='x' ,labelcolor=color)\n",
    "    ax.autoscale(True)\n",
    "\n",
    "    ax = ax.twiny()  # instantiate a second axes that shares the same x-axis\n",
    "    color = 'black'\n",
    "    ax.set_xlabel(r'Density ($\\rho$)', color=color, fontsize=11)  # we already handled the x-label with ax1\n",
    "    ax.plot(PP[:,num],Depth[0:-4,num] ,'k', linewidth = 1.5)\n",
    "    ax.tick_params(axis='x', labelcolor=color,)\n",
    "    ax.invert_yaxis()\n",
    "\n",
    "     # otherwise the right y-label is slightly clipped\n",
    "    ax.grid(linestyle='--', linewidth=0.6)\n",
    "    # ax.set_ylim(800,-5)\n",
    "    \n",
    "# ax1 = fig.add_subplot(gs[1:2, 1])\n",
    "# color1 = 'tab:red'\n",
    "# ax1.plot(N2,p_mid ,color=color1, linewidth = 1.5) # label = ds3.JULD[2].dt.strftime('%y/ %m/ %d').values)\n",
    "# ax1.invert_yaxis()\n",
    "# ax1.set_ylim(750,-5)\n",
    "# ax1.set_xlabel(' Brunt-Vaisala\\n Frecuency (Hz)', color=color1, fontsize=9)\n",
    "# # ax1=fig.tight_layout()\n",
    "# # ax1.set_xlim(22.3,25)\n",
    "# # ax1.get_xaxis().set_visible(False)\n",
    "# ax1.grid(linestyle='--',linewidth=0.7)\n",
    "\n",
    "# ax2= fig.add_subplot(gs[0:1, 1])\n",
    "# color2 = 'black'\n",
    "# ax2.plot(Dens,depth,color=color2,linewidth = 2.1)#, label = ds3.JULD[11].dt.strftime('%y/ %m/ %d').values)\n",
    "# ax2.set_xlabel(r'Density ($\\rho$)', color=color2, fontsize=9)\n",
    "# ax2.invert_yaxis()\n",
    "# ax2.set_ylim(750,-5)\n",
    "# ax2.set_xlim(23.7,26.3)\n",
    "# # ax2.get_yaxis().set_visible(False)\n",
    "# ax2.grid(linestyle='--',linewidth=0.7)"
   ]
  },
  {
   "cell_type": "code",
   "execution_count": null,
   "id": "d064e187-4821-4fff-aa0e-8f18c085ee06",
   "metadata": {},
   "outputs": [],
   "source": []
  },
  {
   "cell_type": "code",
   "execution_count": null,
   "id": "237141be",
   "metadata": {
    "tags": []
   },
   "outputs": [],
   "source": [
    "#Graficamos el perfil EPB\n",
    "nprof=80\n",
    "with sea.plotting_context('talk'):\n",
    "    fig, ax = plt.subplots(figsize=(2.5,5.8))\n",
    "    ax.plot(PP[:,nprof],Depth[0:-4,nprof],'k',linewidth = 2,label=ds.JULD[nprof].dt.strftime('%y/%m/%d').values)\n",
    "    ax.set_ylabel( 'Profundidad (m)',fontsize=11)\n",
    "    ax.set_xlabel(r'Energía  ($J/m^3$)',fontsize=11)\n",
    "    ax.set_title('Energía potencial de Boyancia', fontsize =12,color = 'black')\n",
    "    \n",
    "    ax.plot([-10,400],[Depth[19,nprof],Depth[19,nprof]],'r--',label=format(Depth[19,nprof],'.2f'),linewidth=1.5)\n",
    "    ax.plot([-10,400],[Depth[14,nprof],Depth[14,nprof]],'b--',label=format(Depth[14,nprof],'.2f'),linewidth=1.5)\n",
    "    # ax.plot([-10,400],[z[11],z[11]],'r--',label=format(z[11],'.2f'),linewidth=1.5)\n",
    "    ax.legend(fontsize=8)\n",
    "    ax.invert_yaxis()\n",
    "    ax.grid(linestyle='--',linewidth=0.7)\n",
    "    # ax.annotate('----',xy=(PP[25,54],z[25]))\n",
    "    ax.set_ylim(150,-5)\n",
    "    # ax.set_xlim(-10,250)\n",
    "# plt.savefig('C:/Users/Atmosfera/Pictures/ARGO/Boyancia.png')"
   ]
  },
  {
   "cell_type": "code",
   "execution_count": 57,
   "id": "688ce034-4b11-4109-be4a-bf4b3a0ee249",
   "metadata": {
    "tags": []
   },
   "outputs": [],
   "source": [
    "# ds"
   ]
  },
  {
   "cell_type": "markdown",
   "id": "8a701211",
   "metadata": {},
   "source": [
    "#### Obteniendo los perfiles de densidad"
   ]
  },
  {
   "cell_type": "code",
   "execution_count": 58,
   "id": "cb773191",
   "metadata": {
    "tags": []
   },
   "outputs": [],
   "source": [
    "DP= np.zeros(shape=(1024,350))\n",
    "for i in range(350):     ### Ciclo\n",
    "    lon = ds.LONGITUDE[i]\n",
    "    lat = ds.LATITUDE[i]\n",
    "    T = ds.TEMP_ADJUSTED[i]   # in situ T\n",
    "    P = ds.PRES_ADJUSTED[i]   # presión\n",
    "    Sp = ds.PSAL_ADJUSTED[i]  #salinidad práctica\n",
    "    SA = gsw.conversions.SA_from_SP(Sp, P, lon, lat) # SA a partir de salinidad potencial\n",
    "    Tp = gsw.conversions.pt0_from_t(SA, T, P) # temperatura potencial con p_ref=0\n",
    "    CT = gsw.conversions.CT_from_t(SA, T, P) # temperatura conservativa \n",
    "    ########################\n",
    "    Dens = gsw.density.sigma0(SA,CT) # densidad potencial referencia 0dbar - 1000\n",
    "    DP[:,i]=Dens"
   ]
  },
  {
   "cell_type": "code",
   "execution_count": null,
   "id": "c8c5f51c",
   "metadata": {
    "tags": []
   },
   "outputs": [],
   "source": [
    "# #Graficamos\n",
    "# with sea.plotting_context('talk'):\n",
    "#     fig, ax = plt.subplots(figsize=(3,5))\n",
    "#     ax.plot(DP[:,2],z,'blue',linewidth = 2.5)\n",
    "    \n",
    "#     ax.set_ylabel( 'Profundidad (m)')\n",
    "#     ax.set_xlabel(r'$Densidad(kg/m^3)$')\n",
    "#     ax.set_title(r'Perfil vertical de Densidad $(\\rho)$',fontsize =16)\n",
    "    \n",
    "#     ax.legend()\n",
    "#     ax.invert_yaxis()\n",
    "#     ax.set_ylim(120,-5)\n",
    "#     ax.set_xlim(24,26)\n",
    "#     #     ax.invert_xaxis()\n",
    "#     ax.grid()"
   ]
  },
  {
   "cell_type": "code",
   "execution_count": 59,
   "id": "43dfffb4-6433-4cc2-97cf-b27172de336a",
   "metadata": {
    "tags": []
   },
   "outputs": [
    {
     "data": {
      "text/plain": [
       "(1020, 350)"
      ]
     },
     "execution_count": 59,
     "metadata": {},
     "output_type": "execute_result"
    }
   ],
   "source": [
    "PP.shape"
   ]
  },
  {
   "cell_type": "code",
   "execution_count": 60,
   "id": "20f283c6-77fe-40d0-90ec-c828cb1dfd28",
   "metadata": {
    "tags": []
   },
   "outputs": [
    {
     "data": {
      "image/png": "[encoded data removed]",
      "text/plain": [
       "<Figure size 700x450 with 4 Axes>"
      ]
     },
     "metadata": {},
     "output_type": "display_data"
    }
   ],
   "source": [
    "#Graficamos\n",
    "with sea.plotting_context('talk'):\n",
    "    fig,axs = plt.subplots(1,4,figsize=(7,4.5),sharey=True)\n",
    "    fig.suptitle(' Energía Potencial de Boyancia', fontsize =11,color ='k',y=0.93) #%ds.JULD[i].dt.strftime('%y/%m/%d').values, fontsize=12)\n",
    "    # fig.supxlabel(r'Energía ($J/m^3$)',fontsize=10,y=-0.03)\n",
    "    fig.supylabel('Profundidad (m)',fontsize=10,x=-0.02)\n",
    "    # fig.subplots_adjust(hspace=0)\n",
    "\n",
    "    axs[0].plot(PP[:,10],z[0:-4],'k',linewidth = 1.6,label=ds.JULD[10].dt.strftime('%y/%m/%d').values)\n",
    "    axs[0].plot([-50,400],[z[16],z[16]],'r--',label='MLD',linewidth=1.5)\n",
    "    axs[0].set_xlabel(r'Energía ($J/m^3$)',fontsize=7,y=-0.03)\n",
    "    axs[0].legend(fontsize=6)\n",
    "    axs[0].invert_yaxis()\n",
    "    axs[0].grid(linestyle='--',linewidth=0.7)\n",
    "    axs[0].set_ylim(180,-5)\n",
    "    axs[0].set_xlim(-55,400)\n",
    "    \n",
    "    axs[1].plot(PP[:,20],z[0:-4],'k',linewidth = 1.6,label=ds.JULD[20].dt.strftime('%y/%m/%d').values)\n",
    "    axs[1].plot([-50,400],[z[23],z[23]],'r--',label='MLD',linewidth=1.5)\n",
    "    axs[1].set_xlabel(r'Energía ($J/m^3$)',fontsize=7,y=-0.03)\n",
    "    axs[1].legend(fontsize=6)\n",
    "    axs[1].invert_yaxis()\n",
    "    axs[1].grid(linestyle='--',linewidth=0.7)\n",
    "    axs[1].set_ylim(180,-5)\n",
    "    axs[1].set_xlim(-55,400)\n",
    "    \n",
    "    axs[2].plot(PP[:,100],z[0:-4],'k',linewidth = 1.6,label=ds.JULD[100].dt.strftime('%y/%m/%d').values)\n",
    "    axs[2].plot([-50,400],[z[45],z[45]],'r--',label='MLD',linewidth=1.5)\n",
    "    axs[2].set_xlabel(r'Energía ($J/m^3$)',fontsize=7,y=-0.03)\n",
    "    axs[2].legend(fontsize=6)\n",
    "    axs[2].invert_yaxis()\n",
    "    axs[2].set_ylim(180,-5)\n",
    "    axs[2].set_xlim(-55,400)\n",
    "    axs[2].grid(linestyle='--',linewidth=0.7)\n",
    "    \n",
    "    axs[3].plot(PP[:,105],z[0:-4],'k',linewidth = 1.6,label=ds.JULD[105].dt.strftime('%y/%m/%d').values)\n",
    "    axs[3].plot([-50,400],[z[58],z[58]],'r--',label='MLD',linewidth=1.5)\n",
    "    axs[3].set_xlabel(r'Energía ($J/m^3$)',fontsize=7,y=-0.03)\n",
    "    axs[3].legend(fontsize=6)\n",
    "    axs[3].invert_yaxis()\n",
    "    axs[3].set_ylim(180,-5)\n",
    "    axs[3].set_xlim(-55,400)\n",
    "    axs[3].grid(linestyle='--',linewidth=0.7)\n",
    "# plt.savefig('C:/Users/Atmosfera/Pictures/ARGO/Comparacion.png')"
   ]
  },
  {
   "cell_type": "code",
   "execution_count": 36,
   "id": "1177d968-395e-42d0-9bdd-b3047118992c",
   "metadata": {
    "tags": []
   },
   "outputs": [],
   "source": [
    "time=10\n",
    "lon = ds.LONGITUDE[time]\n",
    "lat = ds.LATITUDE[time]\n",
    "T = ds.TEMP_ADJUSTED[time]   # in situ T\n",
    "P = ds.PRES_ADJUSTED[time]   # presión\n",
    "Sp = ds.PSAL_ADJUSTED[time]  #salinidad práctica\n",
    "SA = gsw.conversions.SA_from_SP(Sp, P, lon, lat) # SA a partir de salinidad potencial\n",
    "Tp = gsw.conversions.pt0_from_t(SA, T, P) # temperatura potencial con p_ref=0\n",
    "CT = gsw.conversions.CT_from_t(SA, T, P) # temperatura conservativa \n",
    "########################\n",
    "Dens = gsw.density.sigma0(SA,CT) # densidad potencial referencia 0dbar - 1000\n",
    "\n",
    "N2,p_mid=gsw.Nsquared(SA,CT,P)"
   ]
  },
  {
   "cell_type": "code",
   "execution_count": 37,
   "id": "01514c3a-62b1-4d82-91a2-b4f3e9bb0c23",
   "metadata": {
    "tags": []
   },
   "outputs": [
    {
     "data": {
      "text/plain": [
       "array(['2018-03-31T23:16:00.002490880', '2018-04-05T22:25:00.002396672',\n",
       "       '2018-04-10T21:32:00.002299648', '2018-04-16T01:38:00.000162560',\n",
       "       '2018-04-21T01:07:00.000117504', '2018-04-26T00:14:00.000020224',\n",
       "       '2018-04-30T23:22:00.002499584', '2018-05-06T03:39:00.000378624',\n",
       "       '2018-05-11T03:05:00.000329216', '2018-05-16T02:16:00.000237824',\n",
       "       '2018-05-21T01:28:00.000147968', '2018-05-26T07:50:00.000823552',\n",
       "       '2018-05-31T07:15:00.000772864', '2018-06-05T06:24:00.000678656',\n",
       "       '2018-06-10T05:37:00.000590080', '2018-06-15T11:11:00.001196032',\n",
       "       '2018-06-20T10:28:00.001113600', '2018-06-25T09:39:00.001022208',\n",
       "       '2018-06-30T08:54:00.000936704', '2018-07-05T14:35:00.001552896'],\n",
       "      dtype='datetime64[ns]')"
      ]
     },
     "execution_count": 37,
     "metadata": {},
     "output_type": "execute_result"
    }
   ],
   "source": [
    "ds.JULD_LOCATION[60:80].data"
   ]
  },
  {
   "cell_type": "code",
   "execution_count": 75,
   "id": "baa864e1-217c-41aa-a9dc-540422bacad0",
   "metadata": {
    "tags": []
   },
   "outputs": [
    {
     "data": {
      "text/plain": [
       "array([18.18282037, 18.83333281, 20.04018895, 21.29425233, 22.24436276,\n",
       "       22.42508359, 22.58643776, 22.72818546, 22.91088012, 23.14280798])"
      ]
     },
     "execution_count": 75,
     "metadata": {},
     "output_type": "execute_result"
    }
   ],
   "source": [
    "DP[0:10,291]"
   ]
  },
  {
   "cell_type": "code",
   "execution_count": 96,
   "id": "be2b7d6b",
   "metadata": {
    "tags": []
   },
   "outputs": [
    {
     "data": {
      "image/png": "[encoded data removed]",
      "text/plain": [
       "<Figure size 500x590 with 2 Axes>"
      ]
     },
     "metadata": {},
     "output_type": "display_data"
    }
   ],
   "source": [
    "#Graficamos\n",
    "with sea.plotting_context('talk'):\n",
    "    fig,axs = plt.subplots(1,2,figsize=(5,5.9),sharey=True)\n",
    "    # fig.suptitle('Comparativa entre perfiles ', fontsize=14) #%ds.JULD[i].dt.strftime('%y/%m/%d').values, fontsize=12)\n",
    "    fig.supylabel('Profundidad (m)',fontsize=10,x=-0.001)\n",
    "    # fig.subplots_adjust(hspace=0)\n",
    "\n",
    "    axs[0].plot(PP[:,291],Depth[0:-4,291],'k',linewidth = 1.8,label=ds.JULD[i].dt.strftime('%y/%m/%d').values)\n",
    "    axs[0].set_xlabel(r'Energía ($J/m^3$)',fontsize=10)\n",
    "    axs[0].set_title('Energía Potencial\\n de Boyancia', fontsize =11,color = 'black')\n",
    "\n",
    "    # axs[0].plot(PP[35,23],z[35],'r.', label='MLD',markersize=11)\n",
    "    axs[0].plot([-50,400],[Depth[0,291],Depth[0,291]],'r--',label='EPB',linewidth=2)\n",
    "    axs[0].legend(fontsize=8, loc='lower left')\n",
    "    axs[0].invert_yaxis()\n",
    "    axs[0].grid(linestyle='--',linewidth=0.7)\n",
    "    # axs[0].set_ylim(90,-5)\n",
    "    axs[0].set_xlim(-55,400)\n",
    "\n",
    "    axs[1].plot(DP[:,291],Depth[:,291],'blue',linewidth = 1.8,label=ds.JULD[i].dt.strftime('%y/%m/%d').values)\n",
    "    axs[1].set_xlabel(r'$Densidad(kg/m^3)$',fontsize=10)\n",
    "    axs[1].set_title(r'Densidad $(\\rho)$',fontsize =11,y=1.02)\n",
    "    # axs[1].plot(DP[31,23],z[31],'k.', label='Sprintall')\n",
    "    # axs[1].plot(DP[35,23],z[35],'g.', label='Levitus')\n",
    "    # axs[1].plot(DP[33,23],z[33],'r.', label='Kara')\n",
    "    axs[1].plot([12,27],[Depth[9,291],Depth[9,291]],'k--', label='Sprintall',linewidth=2)\n",
    "    axs[1].plot([12,27],[Depth[1,291],Depth[1,291]],'g--', label='Levitus',linewidth=2)\n",
    "    axs[1].plot([12,27],[Depth[14,291],Depth[14,291]],'m--', label='Kara',linewidth=2)\n",
    "    # axs[1].plot([12,27],[Depth[3,291],Depth[3, 291]],'y--', label='HYCOM',linewidth=2.5)\n",
    "    axs[1].plot([-50,400],[Depth[0,291],Depth[0,291]],'r--',label='EPB',linewidth=2)\n",
    "    axs[1].legend( loc = 'lower right' , fontsize=7)\n",
    "    # axs[1].invert_yaxis()\n",
    "    axs[1].set_ylim(50,-1)\n",
    "    axs[1].set_xlim(17.5,25)\n",
    "    #     ax.invert_xaxis()\n",
    "    axs[1].grid(linestyle='--',linewidth=0.6)\n",
    "plt.savefig('C:/Users/Atmosfera/Pictures/ARGO/inversion.png')"
   ]
  },
  {
   "cell_type": "code",
   "execution_count": null,
   "id": "fe9f1f71-a6bd-49fc-85ff-ef4a73653969",
   "metadata": {
    "jupyter": {
     "source_hidden": true
    },
    "tags": []
   },
   "outputs": [],
   "source": [
    "# fig, ax1 = plt.subplots(figsize=(2,5))\n",
    "# fig.tight_layout()  \n",
    "# # fig.suptitle(' Estabilidad estatica vs Densidad ', fontsize=14)\n",
    "\n",
    "# ax1.set_xlabel(' Brunt-Vaisala\\n Frecuency (Hz)', fontsize=10)\n",
    "# ax1.set_ylabel('Profundidad (m)')#,fontsize=10)\n",
    "# ax1.plot(N2,p_mid ,'k', linewidth = 1.5)\n",
    "# ax1.tick_params(axis='x' ,labelcolor='k')\n",
    "# ax1.autoscale(True)\n",
    "\n",
    "# ax2 = ax1.twiny()  # instantiate a second axes that shares the same x-axis\\\n",
    "\n",
    "# ax2.set_xlabel(r'Density ($\\rho$)',color='red',fontsize=10)  # we already handled the x-label with ax1\n",
    "# ax2.plot(PP[:,23],z[0:-4],'red',linewidth = 2.1)\n",
    "# ax2.tick_params(axis='x', labelcolor='r',)\n",
    "# ax2.invert_yaxis()\n",
    "\n",
    "# ax1.grid(linestyle='--', linewidth=0.6)\n",
    "# ax1.set_ylim(280,-5)\n",
    "\n",
    "# # ax1.set_xlim(23.8,26)"
   ]
  },
  {
   "cell_type": "code",
   "execution_count": null,
   "id": "e79043a7-797d-4153-952a-e1940737d3b2",
   "metadata": {
    "jupyter": {
     "source_hidden": true
    },
    "tags": []
   },
   "outputs": [],
   "source": [
    "# import matplotlib.pyplot as plt\n",
    "# from matplotlib.gridspec import GridSpec\n",
    "\n",
    "# fig = plt.figure()\n",
    "# fig.suptitle(\"Controlling subplot sizes with width_ratios and height_ratios\")\n",
    "\n",
    "# gs = GridSpec(4, 2)#, height_ratios=[2, 1])\n",
    "# ax = fig.add_subplot(gs[0])\n",
    "# ax = fig.add_subplot(gs[1])\n",
    "# ax = fig.add_subplot(gs[2])\n",
    "# ax = fig.add_subplot(gs[3])\n",
    "# ax = fig.add_subplot(gs[4])\n",
    "# ax = fig.add_subplot(gs[5])\n",
    "# ax = fig.add_subplot(gs[6])\n",
    "# ax = fig.add_subplot(gs[7])\n",
    "# # ax4 = fig.add_subplot(gs[3])\n",
    "\n",
    "# # annotate_axes(fig)"
   ]
  },
  {
   "cell_type": "code",
   "execution_count": null,
   "id": "d3fe3a43-843a-4db4-add0-e1b1a54e7609",
   "metadata": {
    "jupyter": {
     "source_hidden": true
    },
    "tags": []
   },
   "outputs": [],
   "source": [
    "# import matplotlib.pyplot as plt\n",
    "# import matplotlib.gridspec as gridspec\n",
    "\n",
    "# fig = plt.figure(figsize=(4,5),canvas=True)\n",
    "# gs = gridspec.GridSpec(3, 3)\n",
    "\n",
    "# ax1=fig.add_subplot(gs[0:1, :1])\n",
    "# ax1.plot(PP[:,4],z[0:-4],'k',linewidth = 2)\n",
    "# ax1.set_ylabel( 'Profundidad (m)',fontsize=11)\n",
    "# ax1.set_xlabel(r'Energía ($J/m^3$)',fontsize=11)\n",
    "\n",
    "# ax1.plot(PP[27,54],z[27],color='k', label='MLD')\n",
    "# ax1.legend(fontsize=9)\n",
    "# ax1.invert_yaxis()\n",
    "# ax1.grid(linestyle='--',linewidth=0.7)\n",
    "# # ax.annotate('----',xy=(PP[25,54],z[25]))\n",
    "# ax1.set_ylim(250,-5)\n",
    "# # ax1.set_xlim(-25,350)\n",
    "# ax2 = fig.add_subplot(gs[1:2, 0])\n",
    "# ax3 = fig.add_subplot(gs[0:1, 2])\n",
    "# ax4 = fig.add_subplot(gs[1:2, 2])\n",
    "# # ax4 = fig.add_subplot(gs[2:3, 2])\n",
    "\n",
    "# plt.suptitle(\"GridSpec Inside GridSpec\")\n",
    "# # format_axes(fig)\n",
    "\n",
    "# plt.show()"
   ]
  },
  {
   "cell_type": "code",
   "execution_count": null,
   "id": "5b01aeed-aabf-4987-baac-f17fa6a19960",
   "metadata": {
    "jupyter": {
     "source_hidden": true
    },
    "tags": []
   },
   "outputs": [],
   "source": [
    "# import matplotlib.pyplot as plt\n",
    "# import matplotlib.gridspec as gridspec\n",
    "\n",
    "# fig = plt.figure(figsize=(4,5),canvas=True)\n",
    "# gs = gridspec.GridSpec(1, 3)\n",
    "# ax1=fig.add_subplot(gs[0, 0])\n",
    "# ax1=fig.add_subplot(gs[0, 1])\n",
    "# ax1=fig.add_subplot(gs[0, 2])\n"
   ]
  },
  {
   "cell_type": "code",
   "execution_count": null,
   "id": "82f4f94d-c01b-47bc-834a-c1485956350b",
   "metadata": {
    "jupyter": {
     "source_hidden": true
    },
    "tags": []
   },
   "outputs": [],
   "source": [
    "# import matplotlib.pyplot as plt\n",
    "# import matplotlib.gridspec as gridspec\n",
    "\n",
    "# fig = plt.figure()\n",
    "# gs = gridspec.GridSpec(3, 3)\n",
    "# ax1=fig.add_subplot(gs[0, 0])\n",
    "# ax2=fig.add_subplot(gs[1, 0])\n",
    "# ax3==fig.add_subplot(gs[2, 0])\n",
    "# ax4=fig.add_subplot(gs[:, 1])\n",
    "# ax5=fig.add_subplot(gs[0, 2])\n",
    "# ax6=fig.add_subplot(gs[1, 2])\n",
    "# ax7=fig.add_subplot(gs[2, 2])"
   ]
  },
  {
   "cell_type": "code",
   "execution_count": null,
   "id": "d536a39b-d565-48a7-87bb-1930672342be",
   "metadata": {
    "jupyter": {
     "source_hidden": true
    },
    "tags": []
   },
   "outputs": [],
   "source": [
    "# fig, axs = plt.subplots(2, 2, figsize=(4, 4), layout=\"constrained\", sharey=True, sharex=True)"
   ]
  },
  {
   "cell_type": "code",
   "execution_count": null,
   "id": "4409c2bd-1347-45dd-9063-31b20ec15257",
   "metadata": {},
   "outputs": [],
   "source": [
    "# conda list \n",
    "import xarray as xr\n",
    "import matplotlib.pyplot as plt\n",
    "import cartopy.crs as ccrs\n",
    "import cartopy.feature as cfeature\n",
    "import gsw\n",
    "import numpy as np\n",
    "import seaborn as sea"
   ]
  },
  {
   "cell_type": "code",
   "execution_count": null,
   "id": "700a6b63-d142-45cc-b908-025c23a02a7f",
   "metadata": {
    "tags": []
   },
   "outputs": [],
   "source": [
    "import tropycal.tracks as tracks\n",
    "basin = tracks.TrackDataset(basin='north_atlantic')"
   ]
  },
  {
   "cell_type": "code",
   "execution_count": null,
   "id": "f85c023f-4991-42dd-b8d9-d3ae88b23b6f",
   "metadata": {
    "tags": []
   },
   "outputs": [],
   "source": [
    "storm = basin.get_storm(('michael',2018))"
   ]
  },
  {
   "cell_type": "code",
   "execution_count": null,
   "id": "ab1532aa-ca25-4942-80b1-fbac7b5574f3",
   "metadata": {
    "tags": []
   },
   "outputs": [],
   "source": [
    "storm.to_dict()\n",
    "storm.to_xarray()\n",
    "storm.to_dataframe()"
   ]
  },
  {
   "cell_type": "code",
   "execution_count": null,
   "id": "335244ef-8bd8-4da6-bf97-8ac91a42324e",
   "metadata": {
    "tags": []
   },
   "outputs": [],
   "source": [
    "# storm.plot(size=1)"
   ]
  },
  {
   "cell_type": "markdown",
   "id": "17322711-d6a4-41ac-aad6-275d56d37f61",
   "metadata": {},
   "source": [
    "#### Graficas por temporada "
   ]
  },
  {
   "cell_type": "code",
   "execution_count": null,
   "id": "0478566d-07ee-4ed1-89e4-14a2b15ce341",
   "metadata": {},
   "outputs": [],
   "source": [
    "import xarray as xr\n",
    "import matplotlib.pyplot as plt\n",
    "import cartopy.crs as ccrs\n",
    "import cartopy.feature as cfeature\n",
    "import gsw\n",
    "import numpy as np\n",
    "import seaborn as sea\n",
    "import pandas as pd "
   ]
  },
  {
   "cell_type": "code",
   "execution_count": null,
   "id": "f73bda85-4cbf-4101-ae50-c15cc2c5a179",
   "metadata": {
    "tags": []
   },
   "outputs": [],
   "source": [
    "# data=pd.read_csv('C:/Users/Atmosfera/Videos/MLD.csv')\n",
    "data=pd.read_csv('C:/Users/Atmosfera/Videos/MLD_V.csv')\n",
    "type(data), data"
   ]
  },
  {
   "cell_type": "code",
   "execution_count": null,
   "id": "d46030eb-13a8-4f76-ae73-ba1bea0040f8",
   "metadata": {
    "tags": []
   },
   "outputs": [],
   "source": [
    "# print (type(n_data.MT[0]))"
   ]
  },
  {
   "cell_type": "code",
   "execution_count": null,
   "id": "f9619a15-d0c5-4aca-bb4e-988421c95bff",
   "metadata": {
    "tags": []
   },
   "outputs": [],
   "source": [
    "data['MT'] = pd.to_datetime(data['MT'])\n",
    "print (type(data.MT[0]))"
   ]
  },
  {
   "cell_type": "code",
   "execution_count": null,
   "id": "334be6fe-1525-488f-abc6-1945a7ca5911",
   "metadata": {
    "tags": []
   },
   "outputs": [],
   "source": [
    "datos = data.sort_values(by='MT')\n",
    "datos"
   ]
  },
  {
   "cell_type": "code",
   "execution_count": null,
   "id": "d95fad76-11cf-4d2a-b2f2-3169fd728741",
   "metadata": {
    "tags": []
   },
   "outputs": [],
   "source": [
    "# datos['MT'][0:12], datos['MT'][12:25], datos['MT'][25:]"
   ]
  },
  {
   "cell_type": "code",
   "execution_count": null,
   "id": "75c91276-091d-4370-b505-364fa701f070",
   "metadata": {
    "tags": []
   },
   "outputs": [],
   "source": [
    "with sea.plotting_context():\n",
    "    fig, ax = plt.subplots(figsize=(6,4))\n",
    "    fig.supylabel(r'$\\Delta$MLD (m)',fontsize=12)#,x=-0.008)\n",
    "    # fig.supxlabel('Tiempo ',fontsize=12)\n",
    "\n",
    "    ax.plot(datos['MT'], datos['LEVITUS']-datos['PE'],'o',mfc='chartreuse',mec='red',markersize=6,label='Levitus')\n",
    "    ax.plot(datos['MT'], datos['SPRINTALL']-datos['PE'],'o',mfc='orange',mec='red',markersize=6,label='Sprintall')\n",
    "    ax.plot(datos['MT'], datos['KARA']-datos['PE'],'o',mfc='cyan',mec='red',markersize=6,label='Kara')\n",
    "    ax.plot(datos['MT'][0:12], datos['HYCOM_1'][0:12],'o',mfc='lavender',mec='red',markersize=6,label='HYCOM')\n",
    "    # ax.set_ylim(-2,70)\n",
    "    # ax.invert_yaxis()\n",
    "    ax.legend(ncol=4,fontsize=9, loc = 'lower left')\n",
    "    ax.grid(linestyle='--',linewidth=0.7)\n",
    "    # ax.get_xaxis().set_visible(False)\n",
    "    plt.setp(ax.get_xticklabels(), rotation=45, ha=\"right\",\n",
    "         rotation_mode=\"anchor\")\n",
    "    \n",
    "    plt.suptitle('Diferencias entre metodologías y EPB \\n en verano',fontsize =11,y=0.99,fontweight ='bold')\n",
    "# plt.savefig('C:/Users/Atmosfera/Pictures/ARGO/Dif_verano.png')"
   ]
  },
  {
   "cell_type": "code",
   "execution_count": null,
   "id": "39313ff8-cc51-40f4-85ce-6dc0e31c1438",
   "metadata": {
    "tags": []
   },
   "outputs": [],
   "source": [
    "with sea.plotting_context():\n",
    "    fig, ax = plt.subplots(figsize=(6,2.8))\n",
    "    fig.supylabel(r'$\\Delta$MLD (m)',fontsize=12)#,x=-0.008)\n",
    "    # fig.supxlabel('Tiempo ',fontsize=12)\n",
    "\n",
    "    ax.plot(datos['MT'][0:12], datos['LEVITUS'][0:12]-datos['PE'][0:12],'o',mfc='chartreuse',mec='red',markersize=8,label='Levitus')\n",
    "    ax.plot(datos['MT'][0:12], datos['SPRINTALL'][0:12]-datos['PE'][0:12],'o',mfc='orange',mec='red',markersize=8,label='Sprintall')\n",
    "    ax.plot(datos['MT'][0:12], datos['KARA'][0:12]-datos['PE'][0:12],'o',mfc='cyan',mec='red',markersize=8,label='Kara')\n",
    "    ax.plot(datos['MT'][0:12], datos['HYCOM_1'][0:12],'o',mfc='lavender',mec='red',markersize=8,label='HYCOM')\n",
    "    ax.set_ylim(-15,45)\n",
    "    # ax.invert_yaxis()\n",
    "    ax.legend(ncol=4,fontsize=9, loc = 'upper left')\n",
    "    ax.grid(linestyle='--',linewidth=0.7)\n",
    "    # ax.get_xaxis().set_visible(False)\n",
    "    plt.setp(ax.get_xticklabels(), rotation=45, ha=\"right\",\n",
    "         rotation_mode=\"anchor\")\n",
    "    \n",
    "    plt.suptitle('Diferencias entre metodologías y EPB \\n Verano 2014',fontsize =11,y=0.989,fontweight ='bold')"
   ]
  },
  {
   "cell_type": "code",
   "execution_count": null,
   "id": "fed87ea5-e33a-4133-9f99-ecc1058bf946",
   "metadata": {
    "tags": []
   },
   "outputs": [],
   "source": [
    "with sea.plotting_context():\n",
    "    fig, ax = plt.subplots(figsize=(6,2.8))\n",
    "    fig.supylabel(r'$\\Delta$MLD (m)',fontsize=12,x=-0.01)\n",
    "    # fig.supxlabel('Tiempo ',fontsize=12)\n",
    "    ini, fin = 12,25 \n",
    "    ax.plot(datos['MT'][ini:fin], datos['LEVITUS'][ini:fin]-datos['PE'][ini:fin],'o',mfc='chartreuse',mec='red',markersize=8,label='Levitus')\n",
    "    ax.plot(datos['MT'][ini:fin], datos['SPRINTALL'][ini:fin]-datos['PE'][ini:fin],'o',mfc='orange',mec='red',markersize=8,label='Sprintall')\n",
    "    ax.plot(datos['MT'][ini:fin], datos['KARA'][ini:fin]-datos['PE'][ini:fin],'o',mfc='cyan',mec='red',markersize=8,label='Kara')\n",
    "    ax.plot(datos['MT'][ini:fin], datos['HYCOM_1'][ini:fin],'o',mfc='lavender',mec='red',markersize=8,label='HYCOM')\n",
    "    ax.set_ylim(-45,15)\n",
    "    # ax.invert_yaxis()\n",
    "    ax.legend(ncol=4,fontsize=9)\n",
    "    ax.grid(linestyle='--',linewidth=0.7)\n",
    "    # ax.get_xaxis().set_visible(False)\n",
    "    plt.setp(ax.get_xticklabels(), rotation=45, ha=\"right\",\n",
    "         rotation_mode=\"anchor\")\n",
    "    plt.suptitle('Diferencias entre metodologías y EPB \\n Verano 2019',fontsize =11,y=0.989,fontweight ='bold')"
   ]
  },
  {
   "cell_type": "code",
   "execution_count": null,
   "id": "5702d92e-173c-4c92-8888-176fab344b8b",
   "metadata": {
    "tags": []
   },
   "outputs": [],
   "source": [
    "with sea.plotting_context():\n",
    "    fig, ax = plt.subplots(figsize=(6,2.8))\n",
    "    fig.supylabel(r'$\\Delta$MLD (m)',fontsize=12,x=-0.01)\n",
    "    # fig.supxlabel('Tiempo ',fontsize=12)\n",
    "    ini, fin = 25,78 \n",
    "    ax.plot(datos['MT'][ini:fin], datos['LEVITUS'][ini:fin]-datos['PE'][ini:fin],'o',mfc='chartreuse',mec='red',markersize=8,label='Levitus')\n",
    "    ax.plot(datos['MT'][ini:fin], datos['SPRINTALL'][ini:fin]-datos['PE'][ini:fin],'o',mfc='orange',mec='red',markersize=8,label='Sprintall')\n",
    "    ax.plot(datos['MT'][ini:fin], datos['KARA'][ini:fin]-datos['PE'][ini:fin],'o',mfc='cyan',mec='red',markersize=8,label='Kara')\n",
    "    ax.plot(datos['MT'][ini:fin], datos['HYCOM_1'][ini:fin],'o',mfc='lavender',mec='red',markersize=8,label='HYCOM')\n",
    "    ax.set_ylim(-65,45)\n",
    "    # ax.invert_yaxis()\n",
    "    ax.legend(ncol=4,fontsize=9)\n",
    "    ax.grid(linestyle='--',linewidth=0.7)\n",
    "    # ax.get_xaxis().set_visible(False)\n",
    "    plt.setp(ax.get_xticklabels(), rotation=45, ha=\"right\",\n",
    "         rotation_mode=\"anchor\")\n",
    "    plt.suptitle('Diferencias entre metodologías y EPB \\n Verano 2021',fontsize =11,y=0.989,fontweight ='bold')"
   ]
  },
  {
   "cell_type": "code",
   "execution_count": null,
   "id": "afe0de1c-de20-4c48-b2d4-505a9a869cb9",
   "metadata": {},
   "outputs": [],
   "source": []
  },
  {
   "cell_type": "code",
   "execution_count": null,
   "id": "ae774921-5bd0-4d9c-9038-07cc0d762b41",
   "metadata": {
    "tags": []
   },
   "outputs": [],
   "source": [
    "# data=pd.read_csv('C:/Users/Atmosfera/Videos/MLD.csv')\n",
    "data_i=pd.read_csv('C:/Users/Atmosfera/Videos/MLD_I.csv')\n",
    "type(data_i), data_i"
   ]
  },
  {
   "cell_type": "code",
   "execution_count": null,
   "id": "4257aa7e-6e86-4570-9750-8a3042f102ac",
   "metadata": {
    "tags": []
   },
   "outputs": [],
   "source": [
    "data_i['mt'] = pd.to_datetime(data_i['mt'])\n",
    "print (type(data_i.mt[0]))"
   ]
  },
  {
   "cell_type": "code",
   "execution_count": null,
   "id": "0f97da0a-6552-4de0-8904-d22ecc14431f",
   "metadata": {
    "tags": []
   },
   "outputs": [],
   "source": [
    "base = data_i.sort_values(by='mt')\n",
    "base"
   ]
  },
  {
   "cell_type": "code",
   "execution_count": null,
   "id": "98292e53-f664-4b16-be0e-d715aa905c39",
   "metadata": {
    "tags": []
   },
   "outputs": [],
   "source": [
    "# base['mt'][0:13], base['mt'][13:25], base['mt'][26:]"
   ]
  },
  {
   "cell_type": "code",
   "execution_count": null,
   "id": "2d5e664a-404f-455b-a2b6-8fa740f7b083",
   "metadata": {
    "tags": []
   },
   "outputs": [],
   "source": [
    "with sea.plotting_context():\n",
    "    fig, ax = plt.subplots(figsize=(6,4))\n",
    "    fig.supylabel(r'$\\Delta$MLD (m)',fontsize=12)#,x=-0.008)\n",
    "    # fig.supxlabel('Tiempo ',fontsize=12)\n",
    "\n",
    "    ax.plot(base['mt'], base['Levitus']-base['epb'],'o',mfc='chartreuse',mec='blue',markersize=6,label='Levitus')\n",
    "    ax.plot(base['mt'], base['Sprintall']-base['epb'],'o',mfc='orange',mec='blue',markersize=6,label='Sprintall')\n",
    "    ax.plot(base['mt'], base['Kara']-base['epb'],'o',mfc='cyan',mec='blue',markersize=6,label='Kara')\n",
    "    ax.plot(base['mt'][0:12], base['Hycom_i'][0:12],'o',mfc='lavender',mec='blue',markersize=6,label='HYCOM')\n",
    "    ax.set_ylim(-130,130)\n",
    "    # ax.invert_yaxis()\n",
    "    ax.legend(ncol=4,fontsize=8, loc = 'upper center')\n",
    "    ax.grid(linestyle='--',linewidth=0.7)\n",
    "    # ax.get_xaxis().set_visible(False)\n",
    "    plt.setp(ax.get_xticklabels(), rotation=45, ha=\"right\",\n",
    "         rotation_mode=\"anchor\")\n",
    "    \n",
    "    plt.suptitle('Diferencias entre metodologías y EPB \\n en invierno',fontsize =11,y=0.99,fontweight ='bold')\n",
    "plt.savefig('C:/Users/Atmosfera/Pictures/ARGO/Dif_invierno.png')"
   ]
  },
  {
   "cell_type": "code",
   "execution_count": null,
   "id": "f221cf6a-adb6-44d9-97b7-5cc27dc5278d",
   "metadata": {
    "tags": []
   },
   "outputs": [],
   "source": [
    "with sea.plotting_context():\n",
    "    fig, ax = plt.subplots(figsize=(6,2.8))\n",
    "    fig.supylabel(r'$\\Delta$MLD (m)',fontsize=12,x=-0.01)\n",
    "    # fig.supxlabel('Tiempo ',fontsize=12)\n",
    "    ini, fin = 0,13 \n",
    "    ax.plot(base['mt'][ini:fin], base['Levitus'][ini:fin]-base['epb'][ini:fin],'o',mfc='chartreuse',mec='blue',markersize=8,label='Levitus')\n",
    "    ax.plot(base['mt'][ini:fin], base['Sprintall'][ini:fin]-base['epb'][ini:fin],'o',mfc='orange',mec='blue',markersize=8,label='Sprintall')\n",
    "    ax.plot(base['mt'][ini:fin], base['Kara'][ini:fin]-base['epb'][ini:fin],'o',mfc='cyan',mec='blue',markersize=8,label='Kara')\n",
    "    ax.plot(base['mt'][ini:fin], base['Hycom_i'][ini:fin],'o',mfc='lavender',mec='blue',markersize=8,label='HYCOM')\n",
    "    ax.set_ylim(-95,140)\n",
    "    # ax.invert_yaxis()\n",
    "    ax.legend(ncol=4,fontsize=8, loc = 'upper left')\n",
    "    ax.grid(linestyle='--',linewidth=0.7)\n",
    "    # ax.get_xaxis().set_visible(False)\n",
    "    plt.setp(ax.get_xticklabels(), rotation=45, ha=\"right\",\n",
    "         rotation_mode=\"anchor\")\n",
    "    plt.suptitle('Diferencias entre metodologías y EPB \\n Invierno 2013/2014',fontsize =11,y=0.989,fontweight ='bold')"
   ]
  },
  {
   "cell_type": "code",
   "execution_count": null,
   "id": "677f39d6-f21a-450b-9b6b-5cae2e5d4159",
   "metadata": {
    "tags": []
   },
   "outputs": [],
   "source": [
    "with sea.plotting_context():\n",
    "    fig, ax = plt.subplots(figsize=(6,2.8))\n",
    "    fig.supylabel(r'$\\Delta$MLD (m)',fontsize=12,x=-0.01)\n",
    "    # fig.supxlabel('Tiempo ',fontsize=12)\n",
    "    ini, fin = 13,25 \n",
    "    ax.plot(base['mt'][ini:fin], base['Levitus'][ini:fin]-base['epb'][ini:fin],'o',mfc='chartreuse',mec='blue',markersize=8,label='Levitus')\n",
    "    ax.plot(base['mt'][ini:fin], base['Sprintall'][ini:fin]-base['epb'][ini:fin],'o',mfc='orange',mec='blue',markersize=8,label='Sprintall')\n",
    "    ax.plot(base['mt'][ini:fin], base['Kara'][ini:fin]-base['epb'][ini:fin],'o',mfc='cyan',mec='blue',markersize=8,label='Kara')\n",
    "    ax.plot(base['mt'][ini:fin], base['Hycom_i'][ini:fin],'o',mfc='lavender',mec='blue',markersize=8,label='HYCOM')\n",
    "    ax.set_ylim(-75,75)\n",
    "    # ax.invert_yaxis()\n",
    "    ax.legend(ncol=4,fontsize=8, loc= 'upper left')\n",
    "    ax.grid(linestyle='--',linewidth=0.7)\n",
    "    # ax.get_xaxis().set_visible(False)\n",
    "    plt.setp(ax.get_xticklabels(), rotation=45, ha=\"right\",\n",
    "         rotation_mode=\"anchor\")\n",
    "    plt.suptitle('Diferencias entre metodologías y EPB \\n Invierno 2019/2020',fontsize =11,y=0.989,fontweight ='bold')"
   ]
  },
  {
   "cell_type": "code",
   "execution_count": null,
   "id": "509ea4c9-9392-4b35-9ba7-e9f8d65ace9a",
   "metadata": {
    "tags": []
   },
   "outputs": [],
   "source": [
    "with sea.plotting_context():\n",
    "    fig, ax = plt.subplots(figsize=(6,2.8))\n",
    "    fig.supylabel(r'$\\Delta$MLD (m)',fontsize=12,x=-0.01)\n",
    "    # fig.supxlabel('Tiempo ',fontsize=12)\n",
    "    ini, fin = 26,78\n",
    "    ax.plot(base['mt'][ini:fin], base['Levitus'][ini:fin]-base['epb'][ini:fin],'o',mfc='chartreuse',mec='blue',markersize=8,label='Levitus')\n",
    "    ax.plot(base['mt'][ini:fin], base['Sprintall'][ini:fin]-base['epb'][ini:fin],'o',mfc='orange',mec='blue',markersize=8,label='Sprintall')\n",
    "    ax.plot(base['mt'][ini:fin], base['Kara'][ini:fin]-base['epb'][ini:fin],'o',mfc='cyan',mec='blue',markersize=8,label='Kara')\n",
    "    # ax.plot(base['mt'][ini:fin], base['Hycom_i'][ini:fin],'o',mfc='lavender',mec='blue',markersize=8,label='HYCOM')\n",
    "    # ax.set_ylim(-2,70)\n",
    "    # ax.invert_yaxis()\n",
    "    ax.legend(ncol=4,fontsize=8)\n",
    "    ax.grid(linestyle='--',linewidth=0.7)\n",
    "    # ax.get_xaxis().set_visible(False)\n",
    "    plt.setp(ax.get_xticklabels(), rotation=45, ha=\"right\",\n",
    "         rotation_mode=\"anchor\")\n",
    "    plt.suptitle('Diferencias entre metodologías y EPB \\n Invierno 2013/2014',fontsize =11,y=0.989,fontweight ='bold')"
   ]
  },
  {
   "cell_type": "code",
   "execution_count": null,
   "id": "c8c4e78f-8fd3-4900-b9ae-3e7ddc770251",
   "metadata": {
    "tags": []
   },
   "outputs": [],
   "source": [
    "with sea.plotting_context():\n",
    "    fig,axs = plt.subplots(2,1,figsize=(5,5.5))#,sharey=True)\n",
    "    fig.suptitle('Diferencias entre valores de MLD \\n por año', fontsize=10,fontweight='bold', y=0.95) #%ds.JULD[i].dt.strftime('%y/%m/%d').values, fontsize=12)\n",
    "    fig.supylabel(r'$\\Delta$MLD (m)',fontsize=11, x=-0.0001)\n",
    "    # fig.subplots_adjust(vspace=5)\n",
    "    axs[0].plot(datos['MT'], datos['LEVITUS']-datos['PE'],'o',mfc='chartreuse',mec='red',markersize=6,label='Levitus')\n",
    "    axs[0].plot(datos['MT'], datos['SPRINTALL']-datos['PE'],'o',mfc='orange',mec='red',markersize=6,label='Sprintall')\n",
    "    axs[0].plot(datos['MT'], datos['KARA']-datos['PE'],'o',mfc='cyan',mec='red',markersize=6,label='Kara')\n",
    "    axs[0].plot(datos['MT'][0:12], datos['HYCOM_1'][0:12],'o',mfc='lavender',mec='red',markersize=6,label='HYCOM')\n",
    "    axs[0].legend(ncol=4,fontsize=7, loc = 'lower left')\n",
    "    axs[0].grid(linestyle='--',linewidth=0.7)\n",
    "\n",
    "    \n",
    "    axs[1].plot(base['mt'], base['Levitus']-base['epb'],'o',mfc='chartreuse',mec='blue',markersize=6,label='Levitus')\n",
    "    axs[1].plot(base['mt'], base['Sprintall']-base['epb'],'o',mfc='orange',mec='blue',markersize=6,label='Sprintall')\n",
    "    axs[1].plot(base['mt'], base['Kara']-base['epb'],'o',mfc='cyan',mec='blue',markersize=6,label='Kara')\n",
    "    axs[1].plot(base['mt'][0:12], base['Hycom_i'][0:12],'o',mfc='lavender',mec='blue',markersize=6,label='HYCOM')\n",
    "    \n",
    "    axs[1].set_ylim(-130,130)\n",
    "    axs[1].legend(ncol=4,fontsize=7, loc = 'lower left')\n",
    "    axs[1].grid(linestyle='--',linewidth=0.7)\n",
    "plt.savefig('C:/Users/Atmosfera/Pictures/ARGO/MLD_epb.png')"
   ]
  },
  {
   "cell_type": "code",
   "execution_count": null,
   "id": "e10b5342-64c4-40dd-bf44-f747caf87c4b",
   "metadata": {},
   "outputs": [],
   "source": []
  },
  {
   "cell_type": "code",
   "execution_count": null,
   "id": "880a87c5-4577-46f3-992f-478e3318597a",
   "metadata": {
    "tags": []
   },
   "outputs": [],
   "source": [
    "# with sea.plotting_context('talk'):\n",
    "#     fig, ax = plt.subplots(figsize=(5,4.5))\n",
    "#     fig.supylabel('Profundidad (m)',fontsize=12,x=-0.01)\n",
    "\n",
    "#     ax.plot(data['LEVITUS'][0:16],'o',mfc='chartreuse',mec='red',markersize=6,label='Levitus')\n",
    "# #     # ax.plot(data['LEVITUS'][16:31],'o',mfc='yellowgreen',mec='red',markerize=6)\n",
    "\n",
    "#     ax.plot(data['SPRINTALL'][0:16],'o',mfc='orange',mec='red',markersize=6,label='Sprintall')\n",
    "# # #     # ax.plot(data['SPRINTALL'][16:31],'o',mfc='white',mec='red',markersize=6)\n",
    "\n",
    "#     ax.plot(data['KARA'][0:16],'o',mfc='cyan',mec='red',markersize=6,label='Kara')\n",
    "# #     # ax.plot(data['KARA'][16:31],'o',mfc='cyan',mec='red',markersize=6)\n",
    "    \n",
    "#     ax.plot(data['EPB'][0:16],'o',mfc='tomato',mec='red',markersize=6,label='EPB')\n",
    "# #     # ax.plot(data['KARA'][16:31],'o',mfc='cyan',mec='red',markersize=6)\n",
    "    \n",
    "#     ax.plot(data['HYCOM'][0:16],'o',mfc='lavender',mec='red',markersize=6,label='HYCOM')\n",
    "#     # ax.plot(data['KARA'][16:31],'o',mfc='cyan',mec='red',markersize=6)\n",
    "\n",
    "#     # plt.plot(data[:][0:16],'.')\n",
    "#     ax.plot([3.5,3.5],[0,70],'k--',linewidth=1.5)\n",
    "#     ax.plot([7.5,7.5],[0,70],'k--',linewidth=1.5)\n",
    "#     ax.plot([11.5,11.5],[0,70],'k--',linewidth=1.5)\n",
    "#     # ax.plot([15,16],[0,70],'k--',linewidth=1.5)\n",
    "    \n",
    "#     plt.text(1,1.5,'SUR',fontsize=8,rotation=0,color='k',fontweight ='bold')\n",
    "#     plt.text(4.8,1.5,'NORTE',fontsize=8,rotation=0,color='k',fontweight ='bold')\n",
    "#     plt.text(9,1.5,'OESTE',fontsize=8,rotation=0,color='k',fontweight ='bold')\n",
    "#     plt.text(12.8,1.5,'ESTE',fontsize=8,rotation=0,color='k',fontweight ='bold')\n",
    "    \n",
    "#     ax.set_ylim(-2,70)\n",
    "#     ax.invert_yaxis()\n",
    "#     ax.legend(ncol=3,fontsize=8.5)\n",
    "#     ax.grid(linestyle='--',linewidth=0.7)\n",
    "#     ax.get_xaxis().set_visible(False)\n",
    "    \n",
    "#     plt.suptitle('Promedios mensuales por metodología \\n en verano',fontsize =10,y=0.955,fontweight ='bold')"
   ]
  },
  {
   "cell_type": "code",
   "execution_count": null,
   "id": "d8676c4d-7523-4fac-8d1b-29d0066c2550",
   "metadata": {
    "tags": []
   },
   "outputs": [],
   "source": [
    "with sea.plotting_context('talk'):\n",
    "    fig, ax = plt.subplots(figsize=(5,4.5))\n",
    "    fig.supylabel('Profundidad (m)',fontsize=12,x=-0.01)\n",
    "\n",
    "    ax.plot(data['LEVITUS'][16:32],'o',mfc='chartreuse',mec='blue',markersize=6,label='Levitus')\n",
    "    # ax.plot(data['LEVITUS'][16:31],'o',mfc='yellowgreen',mec='red',markersize=6)\n",
    "\n",
    "    ax.plot(data['SPRINTALL'][16:32],'o',mfc='orange',mec='blue',markersize=6,label='Sprintall')\n",
    "    # ax.plot(data['SPRINTALL'][16:31],'o',mfc='white',mec='red',markersize=6)\n",
    "\n",
    "    ax.plot(data['KARA'][16:32],'o',mfc='cyan',mec='blue',markersize=6,label='Kara')\n",
    "    # ax.plot(data['KARA'][16:31],'o',mfc='cyan',mec='red',markersize=6)\n",
    "    \n",
    "    ax.plot(data['EPB'][16:32],'o',mfc='tomato',mec='blue',markersize=6,label='EPB')\n",
    "    # ax.plot(data['KARA'][16:31],'o',mfc='cyan',mec='red',markersize=6)\n",
    "    \n",
    "    ax.plot(data['HYCOM'][16:32],'o',mfc='lavender',mec='blue',markersize=6,label='HYCOM')\n",
    "    # ax.plot(data['KARA'][16:31],'o',mfc='cyan',mec='red',markersize=6)\n",
    "\n",
    "    # plt.plot(data[:][0:16],'.')\n",
    "    ax.plot([19.5,19.5],[0,130],'k--',linewidth=1.5)\n",
    "    ax.plot([23.5,23.5],[0,130],'k--',linewidth=1.5)\n",
    "    ax.plot([27.5,27.5],[0,130],'k--',linewidth=1.5)\n",
    "    # ax.plot([15,16],[0,70],'k--',linewidth=1.5)\n",
    "    \n",
    "    plt.text(17,1.8,'SUR',fontsize=8,rotation=0,color='k',fontweight ='bold')\n",
    "    plt.text(21,1.8,'NORTE',fontsize=8,rotation=0,color='k',fontweight ='bold')\n",
    "    plt.text(25,1.8,'ESTE',fontsize=8,rotation=0,color='k',fontweight ='bold')\n",
    "    plt.text(29,1.8,'OESTE',fontsize=8,rotation=0,color='k',fontweight ='bold')\n",
    "    \n",
    "    ax.set_ylim(-3,130)\n",
    "    ax.legend(ncol=3,loc='lower left',fontsize=8.5)\n",
    "    ax.invert_yaxis()\n",
    "    ax.grid(linestyle='--',linewidth=0.7)\n",
    "    ax.get_xaxis().set_visible(False)\n",
    "    plt.suptitle('Promedios mensuales por metodología \\n en invierno',fontsize =10,y=0.955,fontweight ='bold')"
   ]
  },
  {
   "cell_type": "code",
   "execution_count": null,
   "id": "7ebfc8bf-1d44-45db-86dc-d91359ad8fcd",
   "metadata": {
    "tags": []
   },
   "outputs": [],
   "source": [
    "plt.plot(data[:][16:31],'o')\n",
    "plt.legend()"
   ]
  },
  {
   "cell_type": "code",
   "execution_count": null,
   "id": "57c062db-f09a-493f-bcf8-70956a1d91b2",
   "metadata": {
    "tags": []
   },
   "outputs": [],
   "source": [
    "# data=pd.read_csv('C:/Users/Atmosfera/Videos/MLD.csv')"
   ]
  },
  {
   "cell_type": "code",
   "execution_count": null,
   "id": "91816a47-668a-4567-b93f-652b583712d5",
   "metadata": {},
   "outputs": [],
   "source": [
    "# with sea.plotting_context('talk'):\n",
    "#     fig,axs = plt.subplots(2,1,figsize=(5,5.5))#,sharey=True)\n",
    "#     fig.suptitle('Promedios mensuales por temporada', fontsize=10,fontweight='bold') #%ds.JULD[i].dt.strftime('%y/%m/%d').values, fontsize=12)\n",
    "#     fig.supylabel('MLD (m)',fontsize=11)\n",
    "#     # fig.subplots_adjust(vspace=5)\n",
    "#     axs[0].plot(data['LEVITUS'][0:16],'o',mfc='chartreuse',mec='red',markersize=6,label='Levitus')\n",
    "\n",
    "#     axs[0].plot(data['SPRINTALL'][0:16],'o',mfc='orange',mec='red',markersize=6,label='Sprintall')\n",
    "\n",
    "#     axs[0].plot(data['KARA'][0:16],'o',mfc='cyan',mec='red',markersize=6,label='Kara')\n",
    "    \n",
    "#     axs[0].plot(data['EPB'][0:16],'o',mfc='tomato',mec='red',markersize=6,label='EPB')\n",
    "    \n",
    "#     axs[0].plot(data['HYCOM'][0:16],'o',mfc='lavender',mec='red',markersize=6,label='HYCOM')\n",
    "\n",
    "#     axs[0].plot([3.5,3.5],[0,130],'k--',linewidth=1.5)\n",
    "#     axs[0].plot([7.5,7.5],[0,130],'k--',linewidth=1.5)\n",
    "#     axs[0].plot([11.5,11.5],[0,130],'k--',linewidth=1.5)\n",
    "#     # ax.plot([15,16],[0,70],'k--',linewidth=1.5)\n",
    "    \n",
    "#     axs[0].text(1,1.5,'SUR',fontsize=8,rotation=0,color='k',fontweight ='bold')\n",
    "#     axs[0].text(4.8,1.5,'NORTE',fontsize=8,rotation=0,color='k',fontweight ='bold')\n",
    "#     axs[0].text(8.7,1.5,'OESTE',fontsize=8,rotation=0,color='k',fontweight ='bold')\n",
    "#     axs[0].text(12.8,1.5,'ESTE',fontsize=8,rotation=0,color='k',fontweight ='bold')\n",
    "    \n",
    "#     axs[0].set_ylim(-8,130)\n",
    "#     axs[0].invert_yaxis()\n",
    "#     # axs[0].legend(ncol=3,fontsize=7)\n",
    "#     axs[0].grid(linestyle='--',linewidth=0.7)\n",
    "#     axs[0].get_xaxis().set_visible(False)\n",
    "    \n",
    "#     # axs[0].set_title('Promedios mensuales por metodología \\n en verano',fontsize =10,y=0.955,fontweight ='bold')\n",
    "#     ###\n",
    "    \n",
    "#     axs[1].plot(data['LEVITUS'][16:32],'o',mfc='chartreuse',mec='blue',markersize=6,label='Levitus')\n",
    "#     axs[1].plot(data['SPRINTALL'][16:32],'o',mfc='orange',mec='blue',markersize=6,label='Sprintall')\n",
    "#     axs[1].plot(data['KARA'][16:32],'o',mfc='cyan',mec='blue',markersize=6,label='Kara')\n",
    "#     axs[1].plot(data['EPB'][16:32],'o',mfc='tomato',mec='blue',markersize=6,label='EPB')\n",
    "#     axs[1].plot(data['HYCOM'][16:32],'o',mfc='lavender',mec='blue',markersize=6,label='HYCOM')\n",
    "\n",
    "#     axs[1].plot([19.5,19.5],[0,130],'k--',linewidth=1.5)\n",
    "#     axs[1].plot([23.5,23.5],[0,130],'k--',linewidth=1.5)\n",
    "#     axs[1].plot([27.5,27.5],[0,130],'k--',linewidth=1.5)\n",
    "#     # ax.plot([15,16],[0,70],'k--',linewidth=1.5)\n",
    "    \n",
    "#     # axs[1].text(17,2.5,'SUR',fontsize=8,rotation=0,color='k',fontweight ='bold')\n",
    "#     # axs[1].text(20.5,2.5,'NORTE',fontsize=8,rotation=0,color='k',fontweight ='bold')\n",
    "#     # axs[1].text(24.3,2.5,'OESTE',fontsize=8,rotation=0,color='k',fontweight ='bold')\n",
    "#     # axs[1].text(28.8,2.5,'ESTE',fontsize=8,rotation=0,color='k',fontweight ='bold')\n",
    "    \n",
    "#     axs[1].set_ylim(-8,130)\n",
    "#     axs[1].legend(ncol=3,loc='lower left',fontsize=7)\n",
    "#     axs[1].invert_yaxis()\n",
    "#     axs[1].grid(linestyle='--',linewidth=0.7)#,y=2)\n",
    "#     axs[1].get_xaxis().set_visible(False)\n",
    "    # plt.suptitle('Promedios mensuales por metodología \\n en invierno',fontsize =10,y=0.955,fontweight ='bold')\n"
   ]
  },
  {
   "cell_type": "code",
   "execution_count": null,
   "id": "96bdc0af-9eee-4dd3-8567-6922d0835973",
   "metadata": {},
   "outputs": [],
   "source": []
  }
 ],
 "metadata": {
  "kernelspec": {
   "display_name": "Python 3 (ipykernel)",
   "language": "python",
   "name": "python3"
  },
  "language_info": {
   "codemirror_mode": {
    "name": "ipython",
    "version": 3
   },
   "file_extension": ".py",
   "mimetype": "text/x-python",
   "name": "python",
   "nbconvert_exporter": "python",
   "pygments_lexer": "ipython3",
   "version": "3.8.17"
  }
 },
 "nbformat": 4,
 "nbformat_minor": 5
}
